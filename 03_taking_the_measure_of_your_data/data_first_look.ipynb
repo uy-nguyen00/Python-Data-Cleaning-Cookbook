{
 "cells": [
  {
   "metadata": {},
   "cell_type": "markdown",
   "source": "# 1. Import libraries and load the DataFrames",
   "id": "9e5edc2e90542398"
  },
  {
   "cell_type": "code",
   "id": "initial_id",
   "metadata": {
    "collapsed": true,
    "ExecuteTime": {
     "end_time": "2024-04-18T14:38:30.078806Z",
     "start_time": "2024-04-18T14:38:29.873509Z"
    }
   },
   "source": [
    "import pandas as pd\n",
    "import numpy as np"
   ],
   "outputs": [],
   "execution_count": 1
  },
  {
   "metadata": {
    "ExecuteTime": {
     "end_time": "2024-04-18T14:43:08.476836Z",
     "start_time": "2024-04-18T14:43:08.395976Z"
    }
   },
   "cell_type": "code",
   "source": [
    "nls97 = pd.read_csv('data/nls97.csv')\n",
    "covid_totals = pd.read_csv('data/covidtotals.csv', parse_dates=['lastdate'])"
   ],
   "id": "d3d4b4dc9f3e9e1a",
   "outputs": [],
   "execution_count": 3
  },
  {
   "metadata": {},
   "cell_type": "markdown",
   "source": [
    "# 2. Set and show the index and the size of the `nls97` data\n",
    "\n",
    "Also check to see whether the index values are unique:"
   ],
   "id": "d45f1d1eb7670060"
  },
  {
   "metadata": {
    "ExecuteTime": {
     "end_time": "2024-04-18T14:43:09.823781Z",
     "start_time": "2024-04-18T14:43:09.817534Z"
    }
   },
   "cell_type": "code",
   "source": [
    "nls97.set_index('personid', inplace=True)\n",
    "nls97.index"
   ],
   "id": "4911aba06955e84c",
   "outputs": [
    {
     "data": {
      "text/plain": [
       "Index([100061, 100139, 100284, 100292, 100583, 100833, 100931, 101089, 101122,\n",
       "       101132,\n",
       "       ...\n",
       "       998997, 999031, 999053, 999087, 999103, 999291, 999406, 999543, 999698,\n",
       "       999963],\n",
       "      dtype='int64', name='personid', length=8984)"
      ]
     },
     "execution_count": 4,
     "metadata": {},
     "output_type": "execute_result"
    }
   ],
   "execution_count": 4
  },
  {
   "metadata": {
    "ExecuteTime": {
     "end_time": "2024-04-18T14:43:41.961511Z",
     "start_time": "2024-04-18T14:43:41.957147Z"
    }
   },
   "cell_type": "code",
   "source": "nls97.shape",
   "id": "c3d148306e03d7eb",
   "outputs": [
    {
     "data": {
      "text/plain": [
       "(8984, 88)"
      ]
     },
     "execution_count": 9,
     "metadata": {},
     "output_type": "execute_result"
    }
   ],
   "execution_count": 9
  },
  {
   "metadata": {
    "ExecuteTime": {
     "end_time": "2024-04-18T14:43:54.161347Z",
     "start_time": "2024-04-18T14:43:54.157144Z"
    }
   },
   "cell_type": "code",
   "source": "nls97.index.nunique()",
   "id": "f9973a7453125461",
   "outputs": [
    {
     "data": {
      "text/plain": [
       "8984"
      ]
     },
     "execution_count": 10,
     "metadata": {},
     "output_type": "execute_result"
    }
   ],
   "execution_count": 10
  },
  {
   "metadata": {},
   "cell_type": "markdown",
   "source": "# 3. Show the data types and `non-null` value counts:",
   "id": "44eeb8ef401bc24e"
  },
  {
   "metadata": {
    "ExecuteTime": {
     "end_time": "2024-04-18T14:44:32.678108Z",
     "start_time": "2024-04-18T14:44:32.658808Z"
    }
   },
   "cell_type": "code",
   "source": "nls97.info()",
   "id": "480cb2bda952776",
   "outputs": [
    {
     "name": "stdout",
     "output_type": "stream",
     "text": [
      "<class 'pandas.core.frame.DataFrame'>\n",
      "Index: 8984 entries, 100061 to 999963\n",
      "Data columns (total 88 columns):\n",
      " #   Column                 Non-Null Count  Dtype  \n",
      "---  ------                 --------------  -----  \n",
      " 0   gender                 8984 non-null   object \n",
      " 1   birthmonth             8984 non-null   int64  \n",
      " 2   birthyear              8984 non-null   int64  \n",
      " 3   highestgradecompleted  6663 non-null   float64\n",
      " 4   maritalstatus          6672 non-null   object \n",
      " 5   childathome            4791 non-null   float64\n",
      " 6   childnotathome         4791 non-null   float64\n",
      " 7   wageincome             5091 non-null   float64\n",
      " 8   weeklyhrscomputer      5792 non-null   object \n",
      " 9   weeklyhrstv            6711 non-null   object \n",
      " 10  nightlyhrssleep        6706 non-null   float64\n",
      " 11  satverbal              1406 non-null   float64\n",
      " 12  satmath                1407 non-null   float64\n",
      " 13  gpaoverall             6004 non-null   float64\n",
      " 14  gpaenglish             5798 non-null   float64\n",
      " 15  gpamath                5766 non-null   float64\n",
      " 16  gpascience             5684 non-null   float64\n",
      " 17  highestdegree          8953 non-null   object \n",
      " 18  govprovidejobs         1833 non-null   object \n",
      " 19  govpricecontrols       1859 non-null   object \n",
      " 20  govhealthcare          1874 non-null   object \n",
      " 21  govelderliving         1872 non-null   object \n",
      " 22  govindhelp             1815 non-null   object \n",
      " 23  govunemp               1811 non-null   object \n",
      " 24  govincomediff          1775 non-null   object \n",
      " 25  govcollegefinance      1875 non-null   object \n",
      " 26  govdecenthousing       1847 non-null   object \n",
      " 27  govprotectenvironment  1860 non-null   object \n",
      " 28  weeksworked00          8603 non-null   float64\n",
      " 29  weeksworked01          8564 non-null   float64\n",
      " 30  weeksworked02          8556 non-null   float64\n",
      " 31  weeksworked03          8490 non-null   float64\n",
      " 32  weeksworked04          8458 non-null   float64\n",
      " 33  weeksworked05          8403 non-null   float64\n",
      " 34  weeksworked06          8340 non-null   float64\n",
      " 35  weeksworked07          8272 non-null   float64\n",
      " 36  weeksworked08          8186 non-null   float64\n",
      " 37  weeksworked09          8146 non-null   float64\n",
      " 38  weeksworked10          8054 non-null   float64\n",
      " 39  weeksworked11          7968 non-null   float64\n",
      " 40  weeksworked12          7747 non-null   float64\n",
      " 41  weeksworked13          7680 non-null   float64\n",
      " 42  weeksworked14          7612 non-null   float64\n",
      " 43  weeksworked15          7389 non-null   float64\n",
      " 44  weeksworked16          7068 non-null   float64\n",
      " 45  weeksworked17          6670 non-null   float64\n",
      " 46  colenrfeb97            1250 non-null   object \n",
      " 47  colenroct97            8501 non-null   object \n",
      " 48  colenrfeb98            8501 non-null   object \n",
      " 49  colenroct98            8888 non-null   object \n",
      " 50  colenrfeb99            8865 non-null   object \n",
      " 51  colenroct99            8851 non-null   object \n",
      " 52  colenrfeb00            8820 non-null   object \n",
      " 53  colenroct00            8805 non-null   object \n",
      " 54  colenrfeb01            8786 non-null   object \n",
      " 55  colenroct01            8758 non-null   object \n",
      " 56  colenrfeb02            8732 non-null   object \n",
      " 57  colenroct02            8698 non-null   object \n",
      " 58  colenrfeb03            8658 non-null   object \n",
      " 59  colenroct03            8622 non-null   object \n",
      " 60  colenrfeb04            8578 non-null   object \n",
      " 61  colenroct04            8546 non-null   object \n",
      " 62  colenrfeb05            8508 non-null   object \n",
      " 63  colenroct05            8471 non-null   object \n",
      " 64  colenrfeb06            8426 non-null   object \n",
      " 65  colenroct06            8407 non-null   object \n",
      " 66  colenrfeb07            8352 non-null   object \n",
      " 67  colenroct07            8331 non-null   object \n",
      " 68  colenrfeb08            8289 non-null   object \n",
      " 69  colenroct08            8280 non-null   object \n",
      " 70  colenrfeb09            8236 non-null   object \n",
      " 71  colenroct09            8193 non-null   object \n",
      " 72  colenrfeb10            8116 non-null   object \n",
      " 73  colenroct10            8091 non-null   object \n",
      " 74  colenrfeb11            8037 non-null   object \n",
      " 75  colenroct11            7972 non-null   object \n",
      " 76  colenrfeb12            7794 non-null   object \n",
      " 77  colenroct12            7754 non-null   object \n",
      " 78  colenrfeb13            7754 non-null   object \n",
      " 79  colenroct13            7754 non-null   object \n",
      " 80  colenrfeb14            7624 non-null   object \n",
      " 81  colenroct14            7469 non-null   object \n",
      " 82  colenrfeb15            7469 non-null   object \n",
      " 83  colenroct15            7469 non-null   object \n",
      " 84  colenrfeb16            7036 non-null   object \n",
      " 85  colenroct16            6733 non-null   object \n",
      " 86  colenrfeb17            6733 non-null   object \n",
      " 87  colenroct17            6734 non-null   object \n",
      "dtypes: float64(29), int64(2), object(57)\n",
      "memory usage: 6.4+ MB\n"
     ]
    }
   ],
   "execution_count": 11
  },
  {
   "metadata": {},
   "cell_type": "markdown",
   "source": [
    "# 4. Show the first row of the `nls97` data.\n",
    "\n",
    "Use transpose to show a little more of the output"
   ],
   "id": "23662438f4b1bab7"
  },
  {
   "metadata": {
    "ExecuteTime": {
     "end_time": "2024-04-18T14:49:33.383819Z",
     "start_time": "2024-04-18T14:49:33.375753Z"
    }
   },
   "cell_type": "code",
   "source": "nls97.head(2).T",
   "id": "9904781755c999d6",
   "outputs": [
    {
     "data": {
      "text/plain": [
       "personid                        100061           100139\n",
       "gender                          Female             Male\n",
       "birthmonth                           5                9\n",
       "birthyear                         1980             1983\n",
       "highestgradecompleted             13.0             12.0\n",
       "maritalstatus                  Married          Married\n",
       "...                                ...              ...\n",
       "colenroct15            1. Not enrolled  1. Not enrolled\n",
       "colenrfeb16            1. Not enrolled  1. Not enrolled\n",
       "colenroct16            1. Not enrolled  1. Not enrolled\n",
       "colenrfeb17            1. Not enrolled  1. Not enrolled\n",
       "colenroct17            1. Not enrolled  1. Not enrolled\n",
       "\n",
       "[88 rows x 2 columns]"
      ],
      "text/html": [
       "<div>\n",
       "<style scoped>\n",
       "    .dataframe tbody tr th:only-of-type {\n",
       "        vertical-align: middle;\n",
       "    }\n",
       "\n",
       "    .dataframe tbody tr th {\n",
       "        vertical-align: top;\n",
       "    }\n",
       "\n",
       "    .dataframe thead th {\n",
       "        text-align: right;\n",
       "    }\n",
       "</style>\n",
       "<table border=\"1\" class=\"dataframe\">\n",
       "  <thead>\n",
       "    <tr style=\"text-align: right;\">\n",
       "      <th>personid</th>\n",
       "      <th>100061</th>\n",
       "      <th>100139</th>\n",
       "    </tr>\n",
       "  </thead>\n",
       "  <tbody>\n",
       "    <tr>\n",
       "      <th>gender</th>\n",
       "      <td>Female</td>\n",
       "      <td>Male</td>\n",
       "    </tr>\n",
       "    <tr>\n",
       "      <th>birthmonth</th>\n",
       "      <td>5</td>\n",
       "      <td>9</td>\n",
       "    </tr>\n",
       "    <tr>\n",
       "      <th>birthyear</th>\n",
       "      <td>1980</td>\n",
       "      <td>1983</td>\n",
       "    </tr>\n",
       "    <tr>\n",
       "      <th>highestgradecompleted</th>\n",
       "      <td>13.0</td>\n",
       "      <td>12.0</td>\n",
       "    </tr>\n",
       "    <tr>\n",
       "      <th>maritalstatus</th>\n",
       "      <td>Married</td>\n",
       "      <td>Married</td>\n",
       "    </tr>\n",
       "    <tr>\n",
       "      <th>...</th>\n",
       "      <td>...</td>\n",
       "      <td>...</td>\n",
       "    </tr>\n",
       "    <tr>\n",
       "      <th>colenroct15</th>\n",
       "      <td>1. Not enrolled</td>\n",
       "      <td>1. Not enrolled</td>\n",
       "    </tr>\n",
       "    <tr>\n",
       "      <th>colenrfeb16</th>\n",
       "      <td>1. Not enrolled</td>\n",
       "      <td>1. Not enrolled</td>\n",
       "    </tr>\n",
       "    <tr>\n",
       "      <th>colenroct16</th>\n",
       "      <td>1. Not enrolled</td>\n",
       "      <td>1. Not enrolled</td>\n",
       "    </tr>\n",
       "    <tr>\n",
       "      <th>colenrfeb17</th>\n",
       "      <td>1. Not enrolled</td>\n",
       "      <td>1. Not enrolled</td>\n",
       "    </tr>\n",
       "    <tr>\n",
       "      <th>colenroct17</th>\n",
       "      <td>1. Not enrolled</td>\n",
       "      <td>1. Not enrolled</td>\n",
       "    </tr>\n",
       "  </tbody>\n",
       "</table>\n",
       "<p>88 rows × 2 columns</p>\n",
       "</div>"
      ]
     },
     "execution_count": 12,
     "metadata": {},
     "output_type": "execute_result"
    }
   ],
   "execution_count": 12
  },
  {
   "metadata": {},
   "cell_type": "markdown",
   "source": [
    "# 5. Set and show the index and size for the COVID data.\n",
    "\n",
    "Also check to see whethere index values are unique:"
   ],
   "id": "bba57abdb4cbd237"
  },
  {
   "metadata": {
    "ExecuteTime": {
     "end_time": "2024-04-18T14:56:38.652466Z",
     "start_time": "2024-04-18T14:56:38.644758Z"
    }
   },
   "cell_type": "code",
   "source": [
    "unique_columns = []\n",
    "total_rows = covid_totals.shape[0]\n",
    "\n",
    "for column in covid_totals.columns:\n",
    "    if covid_totals[column].nunique() == total_rows:\n",
    "        unique_columns.append(column)\n",
    "        \n",
    "unique_columns        "
   ],
   "id": "52c94ebb5d87ba95",
   "outputs": [
    {
     "data": {
      "text/plain": [
       "['iso_code', 'location', 'total_cases', 'total_cases_pm', 'population']"
      ]
     },
     "execution_count": 15,
     "metadata": {},
     "output_type": "execute_result"
    }
   ],
   "execution_count": 15
  },
  {
   "metadata": {
    "ExecuteTime": {
     "end_time": "2024-04-18T14:57:26.230209Z",
     "start_time": "2024-04-18T14:57:26.225477Z"
    }
   },
   "cell_type": "code",
   "source": [
    "covid_totals.set_index('iso_code', inplace=True)\n",
    "covid_totals.index"
   ],
   "id": "a9754e05315938ef",
   "outputs": [
    {
     "data": {
      "text/plain": [
       "Index(['AFG', 'ALB', 'DZA', 'ASM', 'AND', 'AGO', 'AIA', 'ATG', 'ARG', 'ARM',\n",
       "       ...\n",
       "       'URY', 'UZB', 'VUT', 'VAT', 'VEN', 'VNM', 'WLF', 'YEM', 'ZMB', 'ZWE'],\n",
       "      dtype='object', name='iso_code', length=231)"
      ]
     },
     "execution_count": 16,
     "metadata": {},
     "output_type": "execute_result"
    }
   ],
   "execution_count": 16
  },
  {
   "metadata": {
    "ExecuteTime": {
     "end_time": "2024-04-18T14:57:41.299309Z",
     "start_time": "2024-04-18T14:57:41.294990Z"
    }
   },
   "cell_type": "code",
   "source": "covid_totals.shape",
   "id": "5f20008dee15cd5e",
   "outputs": [
    {
     "data": {
      "text/plain": [
       "(231, 16)"
      ]
     },
     "execution_count": 17,
     "metadata": {},
     "output_type": "execute_result"
    }
   ],
   "execution_count": 17
  },
  {
   "metadata": {
    "ExecuteTime": {
     "end_time": "2024-04-18T14:58:51.076009Z",
     "start_time": "2024-04-18T14:58:51.071736Z"
    }
   },
   "cell_type": "code",
   "source": "covid_totals.index.nunique()",
   "id": "fd4c26136aac8a24",
   "outputs": [
    {
     "data": {
      "text/plain": [
       "231"
      ]
     },
     "execution_count": 18,
     "metadata": {},
     "output_type": "execute_result"
    }
   ],
   "execution_count": 18
  },
  {
   "metadata": {},
   "cell_type": "markdown",
   "source": "# 6. Show the data types and `non=null` value counts",
   "id": "94e9e9b7fe290c66"
  },
  {
   "metadata": {
    "ExecuteTime": {
     "end_time": "2024-04-18T14:59:25.249462Z",
     "start_time": "2024-04-18T14:59:25.240467Z"
    }
   },
   "cell_type": "code",
   "source": "covid_totals.info()",
   "id": "511a50754364879",
   "outputs": [
    {
     "name": "stdout",
     "output_type": "stream",
     "text": [
      "<class 'pandas.core.frame.DataFrame'>\n",
      "Index: 231 entries, AFG to ZWE\n",
      "Data columns (total 16 columns):\n",
      " #   Column           Non-Null Count  Dtype         \n",
      "---  ------           --------------  -----         \n",
      " 0   lastdate         231 non-null    datetime64[ns]\n",
      " 1   location         231 non-null    object        \n",
      " 2   total_cases      231 non-null    float64       \n",
      " 3   total_deaths     231 non-null    float64       \n",
      " 4   total_cases_pm   231 non-null    float64       \n",
      " 5   total_deaths_pm  231 non-null    float64       \n",
      " 6   population       231 non-null    int64         \n",
      " 7   pop_density      209 non-null    float64       \n",
      " 8   median_age       194 non-null    float64       \n",
      " 9   gdp_per_capita   191 non-null    float64       \n",
      " 10  hosp_beds        170 non-null    float64       \n",
      " 11  vac_per_hund     13 non-null     float64       \n",
      " 12  aged_65_older    188 non-null    float64       \n",
      " 13  life_expectancy  227 non-null    float64       \n",
      " 14  hum_dev_ind      187 non-null    float64       \n",
      " 15  region           231 non-null    object        \n",
      "dtypes: datetime64[ns](1), float64(12), int64(1), object(2)\n",
      "memory usage: 38.8+ KB\n"
     ]
    }
   ],
   "execution_count": 19
  },
  {
   "metadata": {},
   "cell_type": "markdown",
   "source": "# 7. Show a sample of a few rows of the COVID case data:",
   "id": "5d8b4e6e16b7b9d3"
  },
  {
   "metadata": {
    "ExecuteTime": {
     "end_time": "2024-04-18T15:01:43.594943Z",
     "start_time": "2024-04-18T15:01:43.588301Z"
    }
   },
   "cell_type": "code",
   "source": "covid_totals.sample(2, random_state=1).T",
   "id": "2be21b4f5b03328f",
   "outputs": [
    {
     "data": {
      "text/plain": [
       "iso_code                         GHA                  NIU\n",
       "lastdate         2023-12-03 00:00:00  2023-12-31 00:00:00\n",
       "location                       Ghana                 Niue\n",
       "total_cases                 171834.0                993.0\n",
       "total_deaths                  1462.0                  0.0\n",
       "total_cases_pm               5133.07           508709.016\n",
       "total_deaths_pm               43.673                  0.0\n",
       "population                  33475870                 1952\n",
       "pop_density                  126.719                  NaN\n",
       "median_age                      21.1                  NaN\n",
       "gdp_per_capita               4227.63                  NaN\n",
       "hosp_beds                        0.9                  NaN\n",
       "vac_per_hund                     NaN                  NaN\n",
       "aged_65_older                  3.385                  NaN\n",
       "life_expectancy                64.07                73.71\n",
       "hum_dev_ind                    0.611                  NaN\n",
       "region                   West Africa        Oceania / Aus"
      ],
      "text/html": [
       "<div>\n",
       "<style scoped>\n",
       "    .dataframe tbody tr th:only-of-type {\n",
       "        vertical-align: middle;\n",
       "    }\n",
       "\n",
       "    .dataframe tbody tr th {\n",
       "        vertical-align: top;\n",
       "    }\n",
       "\n",
       "    .dataframe thead th {\n",
       "        text-align: right;\n",
       "    }\n",
       "</style>\n",
       "<table border=\"1\" class=\"dataframe\">\n",
       "  <thead>\n",
       "    <tr style=\"text-align: right;\">\n",
       "      <th>iso_code</th>\n",
       "      <th>GHA</th>\n",
       "      <th>NIU</th>\n",
       "    </tr>\n",
       "  </thead>\n",
       "  <tbody>\n",
       "    <tr>\n",
       "      <th>lastdate</th>\n",
       "      <td>2023-12-03 00:00:00</td>\n",
       "      <td>2023-12-31 00:00:00</td>\n",
       "    </tr>\n",
       "    <tr>\n",
       "      <th>location</th>\n",
       "      <td>Ghana</td>\n",
       "      <td>Niue</td>\n",
       "    </tr>\n",
       "    <tr>\n",
       "      <th>total_cases</th>\n",
       "      <td>171834.0</td>\n",
       "      <td>993.0</td>\n",
       "    </tr>\n",
       "    <tr>\n",
       "      <th>total_deaths</th>\n",
       "      <td>1462.0</td>\n",
       "      <td>0.0</td>\n",
       "    </tr>\n",
       "    <tr>\n",
       "      <th>total_cases_pm</th>\n",
       "      <td>5133.07</td>\n",
       "      <td>508709.016</td>\n",
       "    </tr>\n",
       "    <tr>\n",
       "      <th>total_deaths_pm</th>\n",
       "      <td>43.673</td>\n",
       "      <td>0.0</td>\n",
       "    </tr>\n",
       "    <tr>\n",
       "      <th>population</th>\n",
       "      <td>33475870</td>\n",
       "      <td>1952</td>\n",
       "    </tr>\n",
       "    <tr>\n",
       "      <th>pop_density</th>\n",
       "      <td>126.719</td>\n",
       "      <td>NaN</td>\n",
       "    </tr>\n",
       "    <tr>\n",
       "      <th>median_age</th>\n",
       "      <td>21.1</td>\n",
       "      <td>NaN</td>\n",
       "    </tr>\n",
       "    <tr>\n",
       "      <th>gdp_per_capita</th>\n",
       "      <td>4227.63</td>\n",
       "      <td>NaN</td>\n",
       "    </tr>\n",
       "    <tr>\n",
       "      <th>hosp_beds</th>\n",
       "      <td>0.9</td>\n",
       "      <td>NaN</td>\n",
       "    </tr>\n",
       "    <tr>\n",
       "      <th>vac_per_hund</th>\n",
       "      <td>NaN</td>\n",
       "      <td>NaN</td>\n",
       "    </tr>\n",
       "    <tr>\n",
       "      <th>aged_65_older</th>\n",
       "      <td>3.385</td>\n",
       "      <td>NaN</td>\n",
       "    </tr>\n",
       "    <tr>\n",
       "      <th>life_expectancy</th>\n",
       "      <td>64.07</td>\n",
       "      <td>73.71</td>\n",
       "    </tr>\n",
       "    <tr>\n",
       "      <th>hum_dev_ind</th>\n",
       "      <td>0.611</td>\n",
       "      <td>NaN</td>\n",
       "    </tr>\n",
       "    <tr>\n",
       "      <th>region</th>\n",
       "      <td>West Africa</td>\n",
       "      <td>Oceania / Aus</td>\n",
       "    </tr>\n",
       "  </tbody>\n",
       "</table>\n",
       "</div>"
      ]
     },
     "execution_count": 25,
     "metadata": {},
     "output_type": "execute_result"
    }
   ],
   "execution_count": 25
  },
  {
   "metadata": {},
   "cell_type": "code",
   "outputs": [],
   "execution_count": null,
   "source": "",
   "id": "b4d9bf8641f3e2dc"
  }
 ],
 "metadata": {
  "kernelspec": {
   "display_name": "Python 3",
   "language": "python",
   "name": "python3"
  },
  "language_info": {
   "codemirror_mode": {
    "name": "ipython",
    "version": 2
   },
   "file_extension": ".py",
   "mimetype": "text/x-python",
   "name": "python",
   "nbconvert_exporter": "python",
   "pygments_lexer": "ipython2",
   "version": "2.7.6"
  }
 },
 "nbformat": 4,
 "nbformat_minor": 5
}
