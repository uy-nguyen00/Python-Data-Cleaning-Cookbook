{
 "cells": [
  {
   "metadata": {},
   "cell_type": "markdown",
   "source": "### 1. Import and load",
   "id": "f3658692c0279dba"
  },
  {
   "cell_type": "code",
   "id": "initial_id",
   "metadata": {
    "collapsed": true,
    "ExecuteTime": {
     "end_time": "2024-04-19T14:27:47.028497Z",
     "start_time": "2024-04-19T14:27:47.020467Z"
    }
   },
   "source": [
    "import pandas as pd\n",
    "import numpy as np\n",
    "import matplotlib.pyplot as plt\n",
    "\n",
    "covid_totals = pd.read_csv('data/covidtotals720.csv', parse_dates=['lastdate'])\n",
    "covid_totals.set_index('iso_code', inplace=True)"
   ],
   "outputs": [],
   "execution_count": 18
  },
  {
   "metadata": {},
   "cell_type": "markdown",
   "source": "### 2. Let's remind ourselves of the structure of the data:",
   "id": "49b452cd4508132a"
  },
  {
   "metadata": {
    "ExecuteTime": {
     "end_time": "2024-04-19T14:27:47.053884Z",
     "start_time": "2024-04-19T14:27:47.049536Z"
    }
   },
   "cell_type": "code",
   "source": "covid_totals.shape",
   "id": "d8231113866f4a4e",
   "outputs": [
    {
     "data": {
      "text/plain": [
       "(209, 12)"
      ]
     },
     "execution_count": 19,
     "metadata": {},
     "output_type": "execute_result"
    }
   ],
   "execution_count": 19
  },
  {
   "metadata": {
    "ExecuteTime": {
     "end_time": "2024-04-19T14:27:47.072476Z",
     "start_time": "2024-04-19T14:27:47.055311Z"
    }
   },
   "cell_type": "code",
   "source": "covid_totals.sample(1, random_state=1)",
   "id": "936bc0fbf868093",
   "outputs": [
    {
     "data": {
      "text/plain": [
       "           lastdate location  total_cases  total_deaths  total_cases_pm  \\\n",
       "iso_code                                                                  \n",
       "COG      2020-07-12    Congo       2028.0          47.0         367.518   \n",
       "\n",
       "          total_deaths_pm  population  pop_density  median_age  \\\n",
       "iso_code                                                         \n",
       "COG                 8.517   5518092.0       15.405        19.0   \n",
       "\n",
       "          gdp_per_capita  hosp_beds          region  \n",
       "iso_code                                             \n",
       "COG             4881.406        NaN  Central Africa  "
      ],
      "text/html": [
       "<div>\n",
       "<style scoped>\n",
       "    .dataframe tbody tr th:only-of-type {\n",
       "        vertical-align: middle;\n",
       "    }\n",
       "\n",
       "    .dataframe tbody tr th {\n",
       "        vertical-align: top;\n",
       "    }\n",
       "\n",
       "    .dataframe thead th {\n",
       "        text-align: right;\n",
       "    }\n",
       "</style>\n",
       "<table border=\"1\" class=\"dataframe\">\n",
       "  <thead>\n",
       "    <tr style=\"text-align: right;\">\n",
       "      <th></th>\n",
       "      <th>lastdate</th>\n",
       "      <th>location</th>\n",
       "      <th>total_cases</th>\n",
       "      <th>total_deaths</th>\n",
       "      <th>total_cases_pm</th>\n",
       "      <th>total_deaths_pm</th>\n",
       "      <th>population</th>\n",
       "      <th>pop_density</th>\n",
       "      <th>median_age</th>\n",
       "      <th>gdp_per_capita</th>\n",
       "      <th>hosp_beds</th>\n",
       "      <th>region</th>\n",
       "    </tr>\n",
       "    <tr>\n",
       "      <th>iso_code</th>\n",
       "      <th></th>\n",
       "      <th></th>\n",
       "      <th></th>\n",
       "      <th></th>\n",
       "      <th></th>\n",
       "      <th></th>\n",
       "      <th></th>\n",
       "      <th></th>\n",
       "      <th></th>\n",
       "      <th></th>\n",
       "      <th></th>\n",
       "      <th></th>\n",
       "    </tr>\n",
       "  </thead>\n",
       "  <tbody>\n",
       "    <tr>\n",
       "      <th>COG</th>\n",
       "      <td>2020-07-12</td>\n",
       "      <td>Congo</td>\n",
       "      <td>2028.0</td>\n",
       "      <td>47.0</td>\n",
       "      <td>367.518</td>\n",
       "      <td>8.517</td>\n",
       "      <td>5518092.0</td>\n",
       "      <td>15.405</td>\n",
       "      <td>19.0</td>\n",
       "      <td>4881.406</td>\n",
       "      <td>NaN</td>\n",
       "      <td>Central Africa</td>\n",
       "    </tr>\n",
       "  </tbody>\n",
       "</table>\n",
       "</div>"
      ]
     },
     "execution_count": 20,
     "metadata": {},
     "output_type": "execute_result"
    }
   ],
   "execution_count": 20
  },
  {
   "metadata": {
    "ExecuteTime": {
     "end_time": "2024-04-19T14:27:47.087273Z",
     "start_time": "2024-04-19T14:27:47.074440Z"
    }
   },
   "cell_type": "code",
   "source": "covid_totals.dtypes",
   "id": "566a29b85c8ed3e4",
   "outputs": [
    {
     "data": {
      "text/plain": [
       "lastdate           datetime64[ns]\n",
       "location                   object\n",
       "total_cases               float64\n",
       "total_deaths              float64\n",
       "total_cases_pm            float64\n",
       "total_deaths_pm           float64\n",
       "population                float64\n",
       "pop_density               float64\n",
       "median_age                float64\n",
       "gdp_per_capita            float64\n",
       "hosp_beds                 float64\n",
       "region                     object\n",
       "dtype: object"
      ]
     },
     "execution_count": 21,
     "metadata": {},
     "output_type": "execute_result"
    }
   ],
   "execution_count": 21
  },
  {
   "metadata": {},
   "cell_type": "markdown",
   "source": "### 3. Get the descriptive stats on the COVID totals and demographic columns:",
   "id": "e87545eaa6d4a329"
  },
  {
   "metadata": {
    "ExecuteTime": {
     "end_time": "2024-04-19T14:27:47.114686Z",
     "start_time": "2024-04-19T14:27:47.088452Z"
    }
   },
   "cell_type": "code",
   "source": "covid_totals.describe()",
   "id": "e9519fd7b22cd67b",
   "outputs": [
    {
     "data": {
      "text/plain": [
       "                            lastdate   total_cases   total_deaths  \\\n",
       "count                            209  2.090000e+02     209.000000   \n",
       "mean   2020-07-11 23:53:06.602870784  6.075741e+04    2702.952153   \n",
       "min              2020-07-11 00:00:00  3.000000e+00       0.000000   \n",
       "25%              2020-07-12 00:00:00  3.420000e+02       9.000000   \n",
       "50%              2020-07-12 00:00:00  2.820000e+03      53.000000   \n",
       "75%              2020-07-12 00:00:00  2.561100e+04     386.000000   \n",
       "max              2020-07-12 00:00:00  3.247684e+06  134814.000000   \n",
       "std                              NaN  2.724401e+05   11894.963052   \n",
       "\n",
       "       total_cases_pm  total_deaths_pm    population   pop_density  \\\n",
       "count      209.000000       209.000000  2.090000e+02    198.000000   \n",
       "mean      2297.022144        73.636522  3.708365e+07    328.162591   \n",
       "min          1.229000         0.000000  8.090000e+02      0.137000   \n",
       "25%        202.834000         2.809000  9.880020e+05     37.416000   \n",
       "50%        868.866000        15.216000  6.871287e+06     87.250000   \n",
       "75%       2784.865000        58.374000  2.637828e+07    213.535500   \n",
       "max      35795.159000      1237.551000  1.439324e+09  19347.500000   \n",
       "std       4039.840203       156.341672  1.428367e+08   1507.857139   \n",
       "\n",
       "       median_age  gdp_per_capita   hosp_beds  \n",
       "count  185.000000      182.000000  164.000000  \n",
       "mean    30.551351    19284.983786    3.012671  \n",
       "min     15.100000      661.240000    0.100000  \n",
       "25%     22.200000     4485.329000    1.300000  \n",
       "50%     29.900000    13031.526500    2.358500  \n",
       "75%     38.700000    27882.133750    3.895750  \n",
       "max     48.200000   116935.600000   13.800000  \n",
       "std      9.097820    19687.706344    2.464917  "
      ],
      "text/html": [
       "<div>\n",
       "<style scoped>\n",
       "    .dataframe tbody tr th:only-of-type {\n",
       "        vertical-align: middle;\n",
       "    }\n",
       "\n",
       "    .dataframe tbody tr th {\n",
       "        vertical-align: top;\n",
       "    }\n",
       "\n",
       "    .dataframe thead th {\n",
       "        text-align: right;\n",
       "    }\n",
       "</style>\n",
       "<table border=\"1\" class=\"dataframe\">\n",
       "  <thead>\n",
       "    <tr style=\"text-align: right;\">\n",
       "      <th></th>\n",
       "      <th>lastdate</th>\n",
       "      <th>total_cases</th>\n",
       "      <th>total_deaths</th>\n",
       "      <th>total_cases_pm</th>\n",
       "      <th>total_deaths_pm</th>\n",
       "      <th>population</th>\n",
       "      <th>pop_density</th>\n",
       "      <th>median_age</th>\n",
       "      <th>gdp_per_capita</th>\n",
       "      <th>hosp_beds</th>\n",
       "    </tr>\n",
       "  </thead>\n",
       "  <tbody>\n",
       "    <tr>\n",
       "      <th>count</th>\n",
       "      <td>209</td>\n",
       "      <td>2.090000e+02</td>\n",
       "      <td>209.000000</td>\n",
       "      <td>209.000000</td>\n",
       "      <td>209.000000</td>\n",
       "      <td>2.090000e+02</td>\n",
       "      <td>198.000000</td>\n",
       "      <td>185.000000</td>\n",
       "      <td>182.000000</td>\n",
       "      <td>164.000000</td>\n",
       "    </tr>\n",
       "    <tr>\n",
       "      <th>mean</th>\n",
       "      <td>2020-07-11 23:53:06.602870784</td>\n",
       "      <td>6.075741e+04</td>\n",
       "      <td>2702.952153</td>\n",
       "      <td>2297.022144</td>\n",
       "      <td>73.636522</td>\n",
       "      <td>3.708365e+07</td>\n",
       "      <td>328.162591</td>\n",
       "      <td>30.551351</td>\n",
       "      <td>19284.983786</td>\n",
       "      <td>3.012671</td>\n",
       "    </tr>\n",
       "    <tr>\n",
       "      <th>min</th>\n",
       "      <td>2020-07-11 00:00:00</td>\n",
       "      <td>3.000000e+00</td>\n",
       "      <td>0.000000</td>\n",
       "      <td>1.229000</td>\n",
       "      <td>0.000000</td>\n",
       "      <td>8.090000e+02</td>\n",
       "      <td>0.137000</td>\n",
       "      <td>15.100000</td>\n",
       "      <td>661.240000</td>\n",
       "      <td>0.100000</td>\n",
       "    </tr>\n",
       "    <tr>\n",
       "      <th>25%</th>\n",
       "      <td>2020-07-12 00:00:00</td>\n",
       "      <td>3.420000e+02</td>\n",
       "      <td>9.000000</td>\n",
       "      <td>202.834000</td>\n",
       "      <td>2.809000</td>\n",
       "      <td>9.880020e+05</td>\n",
       "      <td>37.416000</td>\n",
       "      <td>22.200000</td>\n",
       "      <td>4485.329000</td>\n",
       "      <td>1.300000</td>\n",
       "    </tr>\n",
       "    <tr>\n",
       "      <th>50%</th>\n",
       "      <td>2020-07-12 00:00:00</td>\n",
       "      <td>2.820000e+03</td>\n",
       "      <td>53.000000</td>\n",
       "      <td>868.866000</td>\n",
       "      <td>15.216000</td>\n",
       "      <td>6.871287e+06</td>\n",
       "      <td>87.250000</td>\n",
       "      <td>29.900000</td>\n",
       "      <td>13031.526500</td>\n",
       "      <td>2.358500</td>\n",
       "    </tr>\n",
       "    <tr>\n",
       "      <th>75%</th>\n",
       "      <td>2020-07-12 00:00:00</td>\n",
       "      <td>2.561100e+04</td>\n",
       "      <td>386.000000</td>\n",
       "      <td>2784.865000</td>\n",
       "      <td>58.374000</td>\n",
       "      <td>2.637828e+07</td>\n",
       "      <td>213.535500</td>\n",
       "      <td>38.700000</td>\n",
       "      <td>27882.133750</td>\n",
       "      <td>3.895750</td>\n",
       "    </tr>\n",
       "    <tr>\n",
       "      <th>max</th>\n",
       "      <td>2020-07-12 00:00:00</td>\n",
       "      <td>3.247684e+06</td>\n",
       "      <td>134814.000000</td>\n",
       "      <td>35795.159000</td>\n",
       "      <td>1237.551000</td>\n",
       "      <td>1.439324e+09</td>\n",
       "      <td>19347.500000</td>\n",
       "      <td>48.200000</td>\n",
       "      <td>116935.600000</td>\n",
       "      <td>13.800000</td>\n",
       "    </tr>\n",
       "    <tr>\n",
       "      <th>std</th>\n",
       "      <td>NaN</td>\n",
       "      <td>2.724401e+05</td>\n",
       "      <td>11894.963052</td>\n",
       "      <td>4039.840203</td>\n",
       "      <td>156.341672</td>\n",
       "      <td>1.428367e+08</td>\n",
       "      <td>1507.857139</td>\n",
       "      <td>9.097820</td>\n",
       "      <td>19687.706344</td>\n",
       "      <td>2.464917</td>\n",
       "    </tr>\n",
       "  </tbody>\n",
       "</table>\n",
       "</div>"
      ]
     },
     "execution_count": 22,
     "metadata": {},
     "output_type": "execute_result"
    }
   ],
   "execution_count": 22
  },
  {
   "metadata": {},
   "cell_type": "markdown",
   "source": [
    "### 4. Take a closer look at the distribution of values for the cases and deaths columns.\n",
    "\n",
    "Use NumPy's `arange` method to pass a list of floats from 0 to 1.0 to the quantile method of the DataFrame:"
   ],
   "id": "c0471c173c80a0c8"
  },
  {
   "metadata": {
    "ExecuteTime": {
     "end_time": "2024-04-19T14:27:47.124470Z",
     "start_time": "2024-04-19T14:27:47.116118Z"
    }
   },
   "cell_type": "code",
   "source": [
    "tot_vars = ['total_cases', 'total_deaths', 'total_cases_pm', 'total_deaths_pm']\n",
    "\n",
    "covid_totals[tot_vars].quantile(np.arange(0.0, 1.1, 0.1))"
   ],
   "id": "3ee6b8bfa736f28a",
   "outputs": [
    {
     "data": {
      "text/plain": [
       "     total_cases  total_deaths  total_cases_pm  total_deaths_pm\n",
       "0.0          3.0           0.0          1.2290           0.0000\n",
       "0.1         63.6           0.0         63.3298           0.0000\n",
       "0.2        231.2           3.6        144.8176           1.2358\n",
       "0.3        721.6          14.4        261.5104           3.7636\n",
       "0.4       1324.4          28.4        378.7776           7.0218\n",
       "0.5       2820.0          53.0        868.8660          15.2160\n",
       "0.6       6695.6         116.6       1398.3306          29.3736\n",
       "0.7      14316.4         279.0       2307.9256          47.7320\n",
       "0.8      40245.4         885.2       3492.3088          76.2842\n",
       "0.9      98632.8        4719.0       5407.6504         201.4248\n",
       "1.0    3247684.0      134814.0      35795.1590        1237.5510"
      ],
      "text/html": [
       "<div>\n",
       "<style scoped>\n",
       "    .dataframe tbody tr th:only-of-type {\n",
       "        vertical-align: middle;\n",
       "    }\n",
       "\n",
       "    .dataframe tbody tr th {\n",
       "        vertical-align: top;\n",
       "    }\n",
       "\n",
       "    .dataframe thead th {\n",
       "        text-align: right;\n",
       "    }\n",
       "</style>\n",
       "<table border=\"1\" class=\"dataframe\">\n",
       "  <thead>\n",
       "    <tr style=\"text-align: right;\">\n",
       "      <th></th>\n",
       "      <th>total_cases</th>\n",
       "      <th>total_deaths</th>\n",
       "      <th>total_cases_pm</th>\n",
       "      <th>total_deaths_pm</th>\n",
       "    </tr>\n",
       "  </thead>\n",
       "  <tbody>\n",
       "    <tr>\n",
       "      <th>0.0</th>\n",
       "      <td>3.0</td>\n",
       "      <td>0.0</td>\n",
       "      <td>1.2290</td>\n",
       "      <td>0.0000</td>\n",
       "    </tr>\n",
       "    <tr>\n",
       "      <th>0.1</th>\n",
       "      <td>63.6</td>\n",
       "      <td>0.0</td>\n",
       "      <td>63.3298</td>\n",
       "      <td>0.0000</td>\n",
       "    </tr>\n",
       "    <tr>\n",
       "      <th>0.2</th>\n",
       "      <td>231.2</td>\n",
       "      <td>3.6</td>\n",
       "      <td>144.8176</td>\n",
       "      <td>1.2358</td>\n",
       "    </tr>\n",
       "    <tr>\n",
       "      <th>0.3</th>\n",
       "      <td>721.6</td>\n",
       "      <td>14.4</td>\n",
       "      <td>261.5104</td>\n",
       "      <td>3.7636</td>\n",
       "    </tr>\n",
       "    <tr>\n",
       "      <th>0.4</th>\n",
       "      <td>1324.4</td>\n",
       "      <td>28.4</td>\n",
       "      <td>378.7776</td>\n",
       "      <td>7.0218</td>\n",
       "    </tr>\n",
       "    <tr>\n",
       "      <th>0.5</th>\n",
       "      <td>2820.0</td>\n",
       "      <td>53.0</td>\n",
       "      <td>868.8660</td>\n",
       "      <td>15.2160</td>\n",
       "    </tr>\n",
       "    <tr>\n",
       "      <th>0.6</th>\n",
       "      <td>6695.6</td>\n",
       "      <td>116.6</td>\n",
       "      <td>1398.3306</td>\n",
       "      <td>29.3736</td>\n",
       "    </tr>\n",
       "    <tr>\n",
       "      <th>0.7</th>\n",
       "      <td>14316.4</td>\n",
       "      <td>279.0</td>\n",
       "      <td>2307.9256</td>\n",
       "      <td>47.7320</td>\n",
       "    </tr>\n",
       "    <tr>\n",
       "      <th>0.8</th>\n",
       "      <td>40245.4</td>\n",
       "      <td>885.2</td>\n",
       "      <td>3492.3088</td>\n",
       "      <td>76.2842</td>\n",
       "    </tr>\n",
       "    <tr>\n",
       "      <th>0.9</th>\n",
       "      <td>98632.8</td>\n",
       "      <td>4719.0</td>\n",
       "      <td>5407.6504</td>\n",
       "      <td>201.4248</td>\n",
       "    </tr>\n",
       "    <tr>\n",
       "      <th>1.0</th>\n",
       "      <td>3247684.0</td>\n",
       "      <td>134814.0</td>\n",
       "      <td>35795.1590</td>\n",
       "      <td>1237.5510</td>\n",
       "    </tr>\n",
       "  </tbody>\n",
       "</table>\n",
       "</div>"
      ]
     },
     "execution_count": 23,
     "metadata": {},
     "output_type": "execute_result"
    }
   ],
   "execution_count": 23
  },
  {
   "metadata": {},
   "cell_type": "markdown",
   "source": "### 5. View the distribution of total cases:",
   "id": "1836e963c05ebc4d"
  },
  {
   "metadata": {
    "ExecuteTime": {
     "end_time": "2024-04-19T14:27:47.227452Z",
     "start_time": "2024-04-19T14:27:47.125726Z"
    }
   },
   "cell_type": "code",
   "source": [
    "plt.hist(covid_totals['total_cases']/1000, bins=12)\n",
    "plt.title('Total COVID Cases')\n",
    "plt.xlabel('Cases')\n",
    "plt.ylabel('Number of Countries')\n",
    "plt.show()"
   ],
   "id": "7533181a506a5a02",
   "outputs": [
    {
     "data": {
      "text/plain": [
       "<Figure size 640x480 with 1 Axes>"
      ],
      "image/png": "[encoded data removed]"
     },
     "metadata": {},
     "output_type": "display_data"
    }
   ],
   "execution_count": 24
  },
  {
   "metadata": {
    "ExecuteTime": {
     "end_time": "2024-04-19T14:27:47.230857Z",
     "start_time": "2024-04-19T14:27:47.228707Z"
    }
   },
   "cell_type": "code",
   "source": "",
   "id": "9c8967ff892d775c",
   "outputs": [],
   "execution_count": 24
  }
 ],
 "metadata": {
  "kernelspec": {
   "display_name": "Python 3",
   "language": "python",
   "name": "python3"
  },
  "language_info": {
   "codemirror_mode": {
    "name": "ipython",
    "version": 2
   },
   "file_extension": ".py",
   "mimetype": "text/x-python",
   "name": "python",
   "nbconvert_exporter": "python",
   "pygments_lexer": "ipython2",
   "version": "2.7.6"
  }
 },
 "nbformat": 4,
 "nbformat_minor": 5
}
