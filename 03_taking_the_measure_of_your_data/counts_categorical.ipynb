{
 "cells": [
  {
   "metadata": {},
   "cell_type": "markdown",
   "source": [
    "### 1. Import and load\n",
    "\n",
    "Also convert the columns with `object` data type to `category` data type."
   ],
   "id": "ce3737cc5d6ce7a9"
  },
  {
   "cell_type": "code",
   "id": "initial_id",
   "metadata": {
    "collapsed": true,
    "ExecuteTime": {
     "end_time": "2024-04-19T11:02:44.460067Z",
     "start_time": "2024-04-19T11:02:44.209336Z"
    }
   },
   "source": [
    "import pandas as pd\n",
    "\n",
    "nls97 = pd.read_csv('data/nls97.csv')\n",
    "nls97.set_index('personid', inplace=True)\n"
   ],
   "outputs": [],
   "execution_count": 2
  },
  {
   "metadata": {
    "ExecuteTime": {
     "end_time": "2024-04-19T11:05:41.455216Z",
     "start_time": "2024-04-19T11:05:41.435008Z"
    }
   },
   "cell_type": "code",
   "source": [
    "object_cols = nls97.select_dtypes(['object']).columns\n",
    "nls97[object_cols] = nls97[object_cols].astype('category')\n",
    "\n",
    "nls97.info()"
   ],
   "id": "bae284013f033c2e",
   "outputs": [
    {
     "name": "stdout",
     "output_type": "stream",
     "text": [
      "<class 'pandas.core.frame.DataFrame'>\n",
      "Index: 8984 entries, 100061 to 999963\n",
      "Data columns (total 88 columns):\n",
      " #   Column                 Non-Null Count  Dtype   \n",
      "---  ------                 --------------  -----   \n",
      " 0   gender                 8984 non-null   category\n",
      " 1   birthmonth             8984 non-null   int64   \n",
      " 2   birthyear              8984 non-null   int64   \n",
      " 3   highestgradecompleted  6663 non-null   float64 \n",
      " 4   maritalstatus          6672 non-null   category\n",
      " 5   childathome            4791 non-null   float64 \n",
      " 6   childnotathome         4791 non-null   float64 \n",
      " 7   wageincome             5091 non-null   float64 \n",
      " 8   weeklyhrscomputer      5792 non-null   category\n",
      " 9   weeklyhrstv            6711 non-null   category\n",
      " 10  nightlyhrssleep        6706 non-null   float64 \n",
      " 11  satverbal              1406 non-null   float64 \n",
      " 12  satmath                1407 non-null   float64 \n",
      " 13  gpaoverall             6004 non-null   float64 \n",
      " 14  gpaenglish             5798 non-null   float64 \n",
      " 15  gpamath                5766 non-null   float64 \n",
      " 16  gpascience             5684 non-null   float64 \n",
      " 17  highestdegree          8953 non-null   category\n",
      " 18  govprovidejobs         1833 non-null   category\n",
      " 19  govpricecontrols       1859 non-null   category\n",
      " 20  govhealthcare          1874 non-null   category\n",
      " 21  govelderliving         1872 non-null   category\n",
      " 22  govindhelp             1815 non-null   category\n",
      " 23  govunemp               1811 non-null   category\n",
      " 24  govincomediff          1775 non-null   category\n",
      " 25  govcollegefinance      1875 non-null   category\n",
      " 26  govdecenthousing       1847 non-null   category\n",
      " 27  govprotectenvironment  1860 non-null   category\n",
      " 28  weeksworked00          8603 non-null   float64 \n",
      " 29  weeksworked01          8564 non-null   float64 \n",
      " 30  weeksworked02          8556 non-null   float64 \n",
      " 31  weeksworked03          8490 non-null   float64 \n",
      " 32  weeksworked04          8458 non-null   float64 \n",
      " 33  weeksworked05          8403 non-null   float64 \n",
      " 34  weeksworked06          8340 non-null   float64 \n",
      " 35  weeksworked07          8272 non-null   float64 \n",
      " 36  weeksworked08          8186 non-null   float64 \n",
      " 37  weeksworked09          8146 non-null   float64 \n",
      " 38  weeksworked10          8054 non-null   float64 \n",
      " 39  weeksworked11          7968 non-null   float64 \n",
      " 40  weeksworked12          7747 non-null   float64 \n",
      " 41  weeksworked13          7680 non-null   float64 \n",
      " 42  weeksworked14          7612 non-null   float64 \n",
      " 43  weeksworked15          7389 non-null   float64 \n",
      " 44  weeksworked16          7068 non-null   float64 \n",
      " 45  weeksworked17          6670 non-null   float64 \n",
      " 46  colenrfeb97            1250 non-null   category\n",
      " 47  colenroct97            8501 non-null   category\n",
      " 48  colenrfeb98            8501 non-null   category\n",
      " 49  colenroct98            8888 non-null   category\n",
      " 50  colenrfeb99            8865 non-null   category\n",
      " 51  colenroct99            8851 non-null   category\n",
      " 52  colenrfeb00            8820 non-null   category\n",
      " 53  colenroct00            8805 non-null   category\n",
      " 54  colenrfeb01            8786 non-null   category\n",
      " 55  colenroct01            8758 non-null   category\n",
      " 56  colenrfeb02            8732 non-null   category\n",
      " 57  colenroct02            8698 non-null   category\n",
      " 58  colenrfeb03            8658 non-null   category\n",
      " 59  colenroct03            8622 non-null   category\n",
      " 60  colenrfeb04            8578 non-null   category\n",
      " 61  colenroct04            8546 non-null   category\n",
      " 62  colenrfeb05            8508 non-null   category\n",
      " 63  colenroct05            8471 non-null   category\n",
      " 64  colenrfeb06            8426 non-null   category\n",
      " 65  colenroct06            8407 non-null   category\n",
      " 66  colenrfeb07            8352 non-null   category\n",
      " 67  colenroct07            8331 non-null   category\n",
      " 68  colenrfeb08            8289 non-null   category\n",
      " 69  colenroct08            8280 non-null   category\n",
      " 70  colenrfeb09            8236 non-null   category\n",
      " 71  colenroct09            8193 non-null   category\n",
      " 72  colenrfeb10            8116 non-null   category\n",
      " 73  colenroct10            8091 non-null   category\n",
      " 74  colenrfeb11            8037 non-null   category\n",
      " 75  colenroct11            7972 non-null   category\n",
      " 76  colenrfeb12            7794 non-null   category\n",
      " 77  colenroct12            7754 non-null   category\n",
      " 78  colenrfeb13            7754 non-null   category\n",
      " 79  colenroct13            7754 non-null   category\n",
      " 80  colenrfeb14            7624 non-null   category\n",
      " 81  colenroct14            7469 non-null   category\n",
      " 82  colenrfeb15            7469 non-null   category\n",
      " 83  colenroct15            7469 non-null   category\n",
      " 84  colenrfeb16            7036 non-null   category\n",
      " 85  colenroct16            6733 non-null   category\n",
      " 86  colenrfeb17            6733 non-null   category\n",
      " 87  colenroct17            6734 non-null   category\n",
      "dtypes: category(57), float64(29), int64(2)\n",
      "memory usage: 2.7 MB\n"
     ]
    }
   ],
   "execution_count": 7
  },
  {
   "metadata": {},
   "cell_type": "markdown",
   "source": [
    "### 2. Show the names for columns with the `category` data type and check for the number of missing values.\n",
    "\n",
    "Notice that there are no missing values for `gender` and few for `highestdegree`, but many for `maritalstatus` and other columns:"
   ],
   "id": "2c867880fd66da25"
  },
  {
   "metadata": {
    "ExecuteTime": {
     "end_time": "2024-04-19T11:08:07.358273Z",
     "start_time": "2024-04-19T11:08:07.349779Z"
    }
   },
   "cell_type": "code",
   "source": [
    "cat_cols = nls97.select_dtypes(include=['category']).columns\n",
    "\n",
    "nls97[cat_cols].isnull().sum()"
   ],
   "id": "c1d2818c150b3aa7",
   "outputs": [
    {
     "data": {
      "text/plain": [
       "gender                      0\n",
       "maritalstatus            2312\n",
       "weeklyhrscomputer        3192\n",
       "weeklyhrstv              2273\n",
       "highestdegree              31\n",
       "govprovidejobs           7151\n",
       "govpricecontrols         7125\n",
       "govhealthcare            7110\n",
       "govelderliving           7112\n",
       "govindhelp               7169\n",
       "govunemp                 7173\n",
       "govincomediff            7209\n",
       "govcollegefinance        7109\n",
       "govdecenthousing         7137\n",
       "govprotectenvironment    7124\n",
       "colenrfeb97              7734\n",
       "colenroct97               483\n",
       "colenrfeb98               483\n",
       "colenroct98                96\n",
       "colenrfeb99               119\n",
       "colenroct99               133\n",
       "colenrfeb00               164\n",
       "colenroct00               179\n",
       "colenrfeb01               198\n",
       "colenroct01               226\n",
       "colenrfeb02               252\n",
       "colenroct02               286\n",
       "colenrfeb03               326\n",
       "colenroct03               362\n",
       "colenrfeb04               406\n",
       "colenroct04               438\n",
       "colenrfeb05               476\n",
       "colenroct05               513\n",
       "colenrfeb06               558\n",
       "colenroct06               577\n",
       "colenrfeb07               632\n",
       "colenroct07               653\n",
       "colenrfeb08               695\n",
       "colenroct08               704\n",
       "colenrfeb09               748\n",
       "colenroct09               791\n",
       "colenrfeb10               868\n",
       "colenroct10               893\n",
       "colenrfeb11               947\n",
       "colenroct11              1012\n",
       "colenrfeb12              1190\n",
       "colenroct12              1230\n",
       "colenrfeb13              1230\n",
       "colenroct13              1230\n",
       "colenrfeb14              1360\n",
       "colenroct14              1515\n",
       "colenrfeb15              1515\n",
       "colenroct15              1515\n",
       "colenrfeb16              1948\n",
       "colenroct16              2251\n",
       "colenrfeb17              2251\n",
       "colenroct17              2250\n",
       "dtype: int64"
      ]
     },
     "execution_count": 8,
     "metadata": {},
     "output_type": "execute_result"
    }
   ],
   "execution_count": 8
  },
  {
   "metadata": {},
   "cell_type": "markdown",
   "source": "### 3. Show the frequencies for marital status:",
   "id": "e3ba02a53c68f163"
  },
  {
   "metadata": {
    "ExecuteTime": {
     "end_time": "2024-04-19T11:09:13.386656Z",
     "start_time": "2024-04-19T11:09:13.381089Z"
    }
   },
   "cell_type": "code",
   "source": "nls97.maritalstatus.value_counts()",
   "id": "db5c2b8208365467",
   "outputs": [
    {
     "data": {
      "text/plain": [
       "maritalstatus\n",
       "Married          3066\n",
       "Never-married    2766\n",
       "Divorced          663\n",
       "Separated         154\n",
       "Widowed            23\n",
       "Name: count, dtype: int64"
      ]
     },
     "execution_count": 9,
     "metadata": {},
     "output_type": "execute_result"
    }
   ],
   "execution_count": 9
  },
  {
   "metadata": {},
   "cell_type": "markdown",
   "source": "### 4. Turn off sorting by frequency:",
   "id": "80a2440b720aa7d7"
  },
  {
   "metadata": {
    "ExecuteTime": {
     "end_time": "2024-04-19T11:30:05.874756Z",
     "start_time": "2024-04-19T11:30:05.868493Z"
    }
   },
   "cell_type": "code",
   "source": "nls97.maritalstatus.value_counts(sort=False)",
   "id": "a4d447160c8fcae8",
   "outputs": [
    {
     "data": {
      "text/plain": [
       "maritalstatus\n",
       "Divorced          663\n",
       "Married          3066\n",
       "Never-married    2766\n",
       "Separated         154\n",
       "Widowed            23\n",
       "Name: count, dtype: int64"
      ]
     },
     "execution_count": 17,
     "metadata": {},
     "output_type": "execute_result"
    }
   ],
   "execution_count": 17
  },
  {
   "metadata": {},
   "cell_type": "markdown",
   "source": "### 5. Show percentages instead of counts:",
   "id": "9fe0e4448b5f433f"
  },
  {
   "metadata": {},
   "cell_type": "code",
   "outputs": [],
   "execution_count": null,
   "source": "nls97.maritalstatus.value_counts(sort=False, normalize=True)",
   "id": "721c5b1fbcfa450"
  },
  {
   "metadata": {},
   "cell_type": "markdown",
   "source": [
    "### 6. Show the percentages for all government responsibility columns.\n",
    "\n",
    "Filter the DataFrame for just the government responsibility columns, then use `apply` to run `value_counts` on all columns in that DataFrame"
   ],
   "id": "83733e12bef1456c"
  },
  {
   "metadata": {
    "ExecuteTime": {
     "end_time": "2024-04-19T11:15:01.212852Z",
     "start_time": "2024-04-19T11:15:01.200048Z"
    }
   },
   "cell_type": "code",
   "source": "nls97.filter(like='gov').apply(pd.Series.value_counts, normalize=True)",
   "id": "5a46ed558dc8d479",
   "outputs": [
    {
     "data": {
      "text/plain": [
       "                   govprovidejobs  govpricecontrols  govhealthcare  \\\n",
       "1. Definitely            0.247681          0.541689       0.665422   \n",
       "2. Probably              0.336607          0.334051       0.271078   \n",
       "3. Probably not          0.252046          0.086606       0.045358   \n",
       "4. Definitely not        0.163666          0.037655       0.018143   \n",
       "\n",
       "                   govelderliving  govindhelp  govunemp  govincomediff  \\\n",
       "1. Definitely            0.700321    0.428650  0.218112       0.324507   \n",
       "2. Probably              0.247863    0.411019  0.403092       0.284507   \n",
       "3. Probably not          0.037927    0.119008  0.262838       0.228732   \n",
       "4. Definitely not        0.013889    0.041322  0.115958       0.162254   \n",
       "\n",
       "                   govcollegefinance  govdecenthousing  govprotectenvironment  \n",
       "1. Definitely               0.734400          0.442339               0.668817  \n",
       "2. Probably                 0.230400          0.433676               0.286559  \n",
       "3. Probably not             0.026667          0.100162               0.029570  \n",
       "4. Definitely not           0.008533          0.023822               0.015054  "
      ],
      "text/html": [
       "<div>\n",
       "<style scoped>\n",
       "    .dataframe tbody tr th:only-of-type {\n",
       "        vertical-align: middle;\n",
       "    }\n",
       "\n",
       "    .dataframe tbody tr th {\n",
       "        vertical-align: top;\n",
       "    }\n",
       "\n",
       "    .dataframe thead th {\n",
       "        text-align: right;\n",
       "    }\n",
       "</style>\n",
       "<table border=\"1\" class=\"dataframe\">\n",
       "  <thead>\n",
       "    <tr style=\"text-align: right;\">\n",
       "      <th></th>\n",
       "      <th>govprovidejobs</th>\n",
       "      <th>govpricecontrols</th>\n",
       "      <th>govhealthcare</th>\n",
       "      <th>govelderliving</th>\n",
       "      <th>govindhelp</th>\n",
       "      <th>govunemp</th>\n",
       "      <th>govincomediff</th>\n",
       "      <th>govcollegefinance</th>\n",
       "      <th>govdecenthousing</th>\n",
       "      <th>govprotectenvironment</th>\n",
       "    </tr>\n",
       "  </thead>\n",
       "  <tbody>\n",
       "    <tr>\n",
       "      <th>1. Definitely</th>\n",
       "      <td>0.247681</td>\n",
       "      <td>0.541689</td>\n",
       "      <td>0.665422</td>\n",
       "      <td>0.700321</td>\n",
       "      <td>0.428650</td>\n",
       "      <td>0.218112</td>\n",
       "      <td>0.324507</td>\n",
       "      <td>0.734400</td>\n",
       "      <td>0.442339</td>\n",
       "      <td>0.668817</td>\n",
       "    </tr>\n",
       "    <tr>\n",
       "      <th>2. Probably</th>\n",
       "      <td>0.336607</td>\n",
       "      <td>0.334051</td>\n",
       "      <td>0.271078</td>\n",
       "      <td>0.247863</td>\n",
       "      <td>0.411019</td>\n",
       "      <td>0.403092</td>\n",
       "      <td>0.284507</td>\n",
       "      <td>0.230400</td>\n",
       "      <td>0.433676</td>\n",
       "      <td>0.286559</td>\n",
       "    </tr>\n",
       "    <tr>\n",
       "      <th>3. Probably not</th>\n",
       "      <td>0.252046</td>\n",
       "      <td>0.086606</td>\n",
       "      <td>0.045358</td>\n",
       "      <td>0.037927</td>\n",
       "      <td>0.119008</td>\n",
       "      <td>0.262838</td>\n",
       "      <td>0.228732</td>\n",
       "      <td>0.026667</td>\n",
       "      <td>0.100162</td>\n",
       "      <td>0.029570</td>\n",
       "    </tr>\n",
       "    <tr>\n",
       "      <th>4. Definitely not</th>\n",
       "      <td>0.163666</td>\n",
       "      <td>0.037655</td>\n",
       "      <td>0.018143</td>\n",
       "      <td>0.013889</td>\n",
       "      <td>0.041322</td>\n",
       "      <td>0.115958</td>\n",
       "      <td>0.162254</td>\n",
       "      <td>0.008533</td>\n",
       "      <td>0.023822</td>\n",
       "      <td>0.015054</td>\n",
       "    </tr>\n",
       "  </tbody>\n",
       "</table>\n",
       "</div>"
      ]
     },
     "execution_count": 12,
     "metadata": {},
     "output_type": "execute_result"
    }
   ],
   "execution_count": 12
  },
  {
   "metadata": {},
   "cell_type": "markdown",
   "source": [
    "### 7. Find the percentages for all government responsibility columns of people who are married.\n",
    "\n",
    "Do what we did in *step 6*, but first select only rows with marital status equal to `Married`:"
   ],
   "id": "386ceaceb0aa0af7"
  },
  {
   "metadata": {
    "ExecuteTime": {
     "end_time": "2024-04-19T11:19:43.656249Z",
     "start_time": "2024-04-19T11:19:43.640258Z"
    }
   },
   "cell_type": "code",
   "source": [
    "(nls97[nls97.maritalstatus == 'Married']\n",
    " .filter(like='gov')\n",
    " .apply(pd.Series.value_counts, normalize=True))"
   ],
   "id": "6750759adf34b81d",
   "outputs": [
    {
     "data": {
      "text/plain": [
       "                   govprovidejobs  govpricecontrols  govhealthcare  \\\n",
       "1. Definitely            0.173315          0.459864       0.564450   \n",
       "2. Probably              0.328748          0.380952       0.359566   \n",
       "3. Probably not          0.314993          0.112925       0.051560   \n",
       "4. Definitely not        0.182944          0.046259       0.024423   \n",
       "\n",
       "                   govelderliving  govindhelp  govunemp  govincomediff  \\\n",
       "1. Definitely            0.632293    0.372549  0.147265       0.258890   \n",
       "2. Probably              0.310719    0.445378  0.395512       0.273115   \n",
       "3. Probably not          0.037992    0.142857  0.328191       0.284495   \n",
       "4. Definitely not        0.018996    0.039216  0.129032       0.183499   \n",
       "\n",
       "                   govcollegefinance  govdecenthousing  govprotectenvironment  \n",
       "1. Definitely               0.695418          0.356354               0.644505  \n",
       "2. Probably                 0.261456          0.493094               0.313433  \n",
       "3. Probably not             0.033693          0.120166               0.028494  \n",
       "4. Definitely not           0.009434          0.030387               0.013569  "
      ],
      "text/html": [
       "<div>\n",
       "<style scoped>\n",
       "    .dataframe tbody tr th:only-of-type {\n",
       "        vertical-align: middle;\n",
       "    }\n",
       "\n",
       "    .dataframe tbody tr th {\n",
       "        vertical-align: top;\n",
       "    }\n",
       "\n",
       "    .dataframe thead th {\n",
       "        text-align: right;\n",
       "    }\n",
       "</style>\n",
       "<table border=\"1\" class=\"dataframe\">\n",
       "  <thead>\n",
       "    <tr style=\"text-align: right;\">\n",
       "      <th></th>\n",
       "      <th>govprovidejobs</th>\n",
       "      <th>govpricecontrols</th>\n",
       "      <th>govhealthcare</th>\n",
       "      <th>govelderliving</th>\n",
       "      <th>govindhelp</th>\n",
       "      <th>govunemp</th>\n",
       "      <th>govincomediff</th>\n",
       "      <th>govcollegefinance</th>\n",
       "      <th>govdecenthousing</th>\n",
       "      <th>govprotectenvironment</th>\n",
       "    </tr>\n",
       "  </thead>\n",
       "  <tbody>\n",
       "    <tr>\n",
       "      <th>1. Definitely</th>\n",
       "      <td>0.173315</td>\n",
       "      <td>0.459864</td>\n",
       "      <td>0.564450</td>\n",
       "      <td>0.632293</td>\n",
       "      <td>0.372549</td>\n",
       "      <td>0.147265</td>\n",
       "      <td>0.258890</td>\n",
       "      <td>0.695418</td>\n",
       "      <td>0.356354</td>\n",
       "      <td>0.644505</td>\n",
       "    </tr>\n",
       "    <tr>\n",
       "      <th>2. Probably</th>\n",
       "      <td>0.328748</td>\n",
       "      <td>0.380952</td>\n",
       "      <td>0.359566</td>\n",
       "      <td>0.310719</td>\n",
       "      <td>0.445378</td>\n",
       "      <td>0.395512</td>\n",
       "      <td>0.273115</td>\n",
       "      <td>0.261456</td>\n",
       "      <td>0.493094</td>\n",
       "      <td>0.313433</td>\n",
       "    </tr>\n",
       "    <tr>\n",
       "      <th>3. Probably not</th>\n",
       "      <td>0.314993</td>\n",
       "      <td>0.112925</td>\n",
       "      <td>0.051560</td>\n",
       "      <td>0.037992</td>\n",
       "      <td>0.142857</td>\n",
       "      <td>0.328191</td>\n",
       "      <td>0.284495</td>\n",
       "      <td>0.033693</td>\n",
       "      <td>0.120166</td>\n",
       "      <td>0.028494</td>\n",
       "    </tr>\n",
       "    <tr>\n",
       "      <th>4. Definitely not</th>\n",
       "      <td>0.182944</td>\n",
       "      <td>0.046259</td>\n",
       "      <td>0.024423</td>\n",
       "      <td>0.018996</td>\n",
       "      <td>0.039216</td>\n",
       "      <td>0.129032</td>\n",
       "      <td>0.183499</td>\n",
       "      <td>0.009434</td>\n",
       "      <td>0.030387</td>\n",
       "      <td>0.013569</td>\n",
       "    </tr>\n",
       "  </tbody>\n",
       "</table>\n",
       "</div>"
      ]
     },
     "execution_count": 13,
     "metadata": {},
     "output_type": "execute_result"
    }
   ],
   "execution_count": 13
  },
  {
   "metadata": {},
   "cell_type": "markdown",
   "source": [
    "### 8. Find the frequencies and percentages for all category columns in the DataFrame.\n",
    "First, open a file to write out the frequencies"
   ],
   "id": "d462732d0d27c7dd"
  },
  {
   "metadata": {
    "ExecuteTime": {
     "end_time": "2024-04-19T11:26:55.168011Z",
     "start_time": "2024-04-19T11:26:55.124093Z"
    }
   },
   "cell_type": "code",
   "source": [
    "freq_out = open('views/frequenciestest.txt', 'w')\n",
    "\n",
    "for col in nls97.select_dtypes(include=['category']): # with or without .columns it still works \n",
    "    print(col, \"----------------------\", \"frequencies\",\n",
    "          nls97[col].value_counts(sort=False), \"percentages\",\n",
    "          nls97[col].value_counts(normalize=True, sort=False),\n",
    "          sep=\"\\n\\n\", end=\"\\n\\n\\n\", file=freq_out)\n",
    " \n",
    "freq_out.close() "
   ],
   "id": "e159218d77ca3f41",
   "outputs": [],
   "execution_count": 15
  }
 ],
 "metadata": {
  "kernelspec": {
   "display_name": "Python 3",
   "language": "python",
   "name": "python3"
  },
  "language_info": {
   "codemirror_mode": {
    "name": "ipython",
    "version": 2
   },
   "file_extension": ".py",
   "mimetype": "text/x-python",
   "name": "python",
   "nbconvert_exporter": "python",
   "pygments_lexer": "ipython2",
   "version": "2.7.6"
  }
 },
 "nbformat": 4,
 "nbformat_minor": 5
}
