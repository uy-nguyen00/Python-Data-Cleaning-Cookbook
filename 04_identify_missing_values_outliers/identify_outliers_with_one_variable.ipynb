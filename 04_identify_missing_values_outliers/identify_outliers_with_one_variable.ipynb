{
 "cells": [
  {
   "metadata": {},
   "cell_type": "markdown",
   "source": "### 1. Import and load",
   "id": "82ed6bb7017a744d"
  },
  {
   "metadata": {
    "ExecuteTime": {
     "end_time": "2024-04-23T20:31:53.771043Z",
     "start_time": "2024-04-23T20:31:51.891812Z"
    }
   },
   "cell_type": "code",
   "source": [
    "import pandas as pd\n",
    "import numpy as np\n",
    "import matplotlib.pyplot as plt\n",
    "import statsmodels.api as sm\n",
    "import scipy.stats as scistat\n",
    "\n",
    "covid_totals = pd.read_csv('data/covidtotals720.csv')\n",
    "covid_totals.set_index('iso_code', inplace=True)\n",
    "tot_vars = ['total_cases',\n",
    "            'total_deaths', 'total_cases_pm',\n",
    "            'total_deaths_pm']\n",
    "demo_vars = ['population', 'pop_density',\n",
    "             'median_age', 'gdp_per_capita',\n",
    "             'hosp_beds']"
   ],
   "id": "8c62085e3aa5678",
   "outputs": [],
   "execution_count": 2
  },
  {
   "metadata": {},
   "cell_type": "markdown",
   "source": [
    "### 2. Get descriptive stats for the Covid case data.\n",
    "\n",
    "Create a DataFrame with just the key case data:"
   ],
   "id": "9579f21020f805d2"
  },
  {
   "metadata": {
    "ExecuteTime": {
     "end_time": "2024-04-23T20:31:53.792148Z",
     "start_time": "2024-04-23T20:31:53.772466Z"
    }
   },
   "cell_type": "code",
   "source": [
    "covid_totals_only = covid_totals.loc[:, tot_vars]\n",
    "covid_totals_only.describe()"
   ],
   "id": "80d697ceb2236611",
   "outputs": [
    {
     "data": {
      "text/plain": [
       "        total_cases   total_deaths  total_cases_pm  total_deaths_pm\n",
       "count  2.090000e+02     209.000000      209.000000       209.000000\n",
       "mean   6.075741e+04    2702.952153     2297.022144        73.636522\n",
       "std    2.724401e+05   11894.963052     4039.840203       156.341672\n",
       "min    3.000000e+00       0.000000        1.229000         0.000000\n",
       "25%    3.420000e+02       9.000000      202.834000         2.809000\n",
       "50%    2.820000e+03      53.000000      868.866000        15.216000\n",
       "75%    2.561100e+04     386.000000     2784.865000        58.374000\n",
       "max    3.247684e+06  134814.000000    35795.159000      1237.551000"
      ],
      "text/html": [
       "<div>\n",
       "<style scoped>\n",
       "    .dataframe tbody tr th:only-of-type {\n",
       "        vertical-align: middle;\n",
       "    }\n",
       "\n",
       "    .dataframe tbody tr th {\n",
       "        vertical-align: top;\n",
       "    }\n",
       "\n",
       "    .dataframe thead th {\n",
       "        text-align: right;\n",
       "    }\n",
       "</style>\n",
       "<table border=\"1\" class=\"dataframe\">\n",
       "  <thead>\n",
       "    <tr style=\"text-align: right;\">\n",
       "      <th></th>\n",
       "      <th>total_cases</th>\n",
       "      <th>total_deaths</th>\n",
       "      <th>total_cases_pm</th>\n",
       "      <th>total_deaths_pm</th>\n",
       "    </tr>\n",
       "  </thead>\n",
       "  <tbody>\n",
       "    <tr>\n",
       "      <th>count</th>\n",
       "      <td>2.090000e+02</td>\n",
       "      <td>209.000000</td>\n",
       "      <td>209.000000</td>\n",
       "      <td>209.000000</td>\n",
       "    </tr>\n",
       "    <tr>\n",
       "      <th>mean</th>\n",
       "      <td>6.075741e+04</td>\n",
       "      <td>2702.952153</td>\n",
       "      <td>2297.022144</td>\n",
       "      <td>73.636522</td>\n",
       "    </tr>\n",
       "    <tr>\n",
       "      <th>std</th>\n",
       "      <td>2.724401e+05</td>\n",
       "      <td>11894.963052</td>\n",
       "      <td>4039.840203</td>\n",
       "      <td>156.341672</td>\n",
       "    </tr>\n",
       "    <tr>\n",
       "      <th>min</th>\n",
       "      <td>3.000000e+00</td>\n",
       "      <td>0.000000</td>\n",
       "      <td>1.229000</td>\n",
       "      <td>0.000000</td>\n",
       "    </tr>\n",
       "    <tr>\n",
       "      <th>25%</th>\n",
       "      <td>3.420000e+02</td>\n",
       "      <td>9.000000</td>\n",
       "      <td>202.834000</td>\n",
       "      <td>2.809000</td>\n",
       "    </tr>\n",
       "    <tr>\n",
       "      <th>50%</th>\n",
       "      <td>2.820000e+03</td>\n",
       "      <td>53.000000</td>\n",
       "      <td>868.866000</td>\n",
       "      <td>15.216000</td>\n",
       "    </tr>\n",
       "    <tr>\n",
       "      <th>75%</th>\n",
       "      <td>2.561100e+04</td>\n",
       "      <td>386.000000</td>\n",
       "      <td>2784.865000</td>\n",
       "      <td>58.374000</td>\n",
       "    </tr>\n",
       "    <tr>\n",
       "      <th>max</th>\n",
       "      <td>3.247684e+06</td>\n",
       "      <td>134814.000000</td>\n",
       "      <td>35795.159000</td>\n",
       "      <td>1237.551000</td>\n",
       "    </tr>\n",
       "  </tbody>\n",
       "</table>\n",
       "</div>"
      ]
     },
     "execution_count": 3,
     "metadata": {},
     "output_type": "execute_result"
    }
   ],
   "execution_count": 3
  },
  {
   "metadata": {},
   "cell_type": "markdown",
   "source": "### 3. Show more detailed percentile data:",
   "id": "bc09d4364dd68f8c"
  },
  {
   "metadata": {
    "ExecuteTime": {
     "end_time": "2024-04-23T20:31:53.801637Z",
     "start_time": "2024-04-23T20:31:53.793628Z"
    }
   },
   "cell_type": "code",
   "source": "covid_totals_only.quantile(np.arange(0.0, 1.1, 0.1)) ",
   "id": "87e3b273f6399ba5",
   "outputs": [
    {
     "data": {
      "text/plain": [
       "     total_cases  total_deaths  total_cases_pm  total_deaths_pm\n",
       "0.0          3.0           0.0          1.2290           0.0000\n",
       "0.1         63.6           0.0         63.3298           0.0000\n",
       "0.2        231.2           3.6        144.8176           1.2358\n",
       "0.3        721.6          14.4        261.5104           3.7636\n",
       "0.4       1324.4          28.4        378.7776           7.0218\n",
       "0.5       2820.0          53.0        868.8660          15.2160\n",
       "0.6       6695.6         116.6       1398.3306          29.3736\n",
       "0.7      14316.4         279.0       2307.9256          47.7320\n",
       "0.8      40245.4         885.2       3492.3088          76.2842\n",
       "0.9      98632.8        4719.0       5407.6504         201.4248\n",
       "1.0    3247684.0      134814.0      35795.1590        1237.5510"
      ],
      "text/html": [
       "<div>\n",
       "<style scoped>\n",
       "    .dataframe tbody tr th:only-of-type {\n",
       "        vertical-align: middle;\n",
       "    }\n",
       "\n",
       "    .dataframe tbody tr th {\n",
       "        vertical-align: top;\n",
       "    }\n",
       "\n",
       "    .dataframe thead th {\n",
       "        text-align: right;\n",
       "    }\n",
       "</style>\n",
       "<table border=\"1\" class=\"dataframe\">\n",
       "  <thead>\n",
       "    <tr style=\"text-align: right;\">\n",
       "      <th></th>\n",
       "      <th>total_cases</th>\n",
       "      <th>total_deaths</th>\n",
       "      <th>total_cases_pm</th>\n",
       "      <th>total_deaths_pm</th>\n",
       "    </tr>\n",
       "  </thead>\n",
       "  <tbody>\n",
       "    <tr>\n",
       "      <th>0.0</th>\n",
       "      <td>3.0</td>\n",
       "      <td>0.0</td>\n",
       "      <td>1.2290</td>\n",
       "      <td>0.0000</td>\n",
       "    </tr>\n",
       "    <tr>\n",
       "      <th>0.1</th>\n",
       "      <td>63.6</td>\n",
       "      <td>0.0</td>\n",
       "      <td>63.3298</td>\n",
       "      <td>0.0000</td>\n",
       "    </tr>\n",
       "    <tr>\n",
       "      <th>0.2</th>\n",
       "      <td>231.2</td>\n",
       "      <td>3.6</td>\n",
       "      <td>144.8176</td>\n",
       "      <td>1.2358</td>\n",
       "    </tr>\n",
       "    <tr>\n",
       "      <th>0.3</th>\n",
       "      <td>721.6</td>\n",
       "      <td>14.4</td>\n",
       "      <td>261.5104</td>\n",
       "      <td>3.7636</td>\n",
       "    </tr>\n",
       "    <tr>\n",
       "      <th>0.4</th>\n",
       "      <td>1324.4</td>\n",
       "      <td>28.4</td>\n",
       "      <td>378.7776</td>\n",
       "      <td>7.0218</td>\n",
       "    </tr>\n",
       "    <tr>\n",
       "      <th>0.5</th>\n",
       "      <td>2820.0</td>\n",
       "      <td>53.0</td>\n",
       "      <td>868.8660</td>\n",
       "      <td>15.2160</td>\n",
       "    </tr>\n",
       "    <tr>\n",
       "      <th>0.6</th>\n",
       "      <td>6695.6</td>\n",
       "      <td>116.6</td>\n",
       "      <td>1398.3306</td>\n",
       "      <td>29.3736</td>\n",
       "    </tr>\n",
       "    <tr>\n",
       "      <th>0.7</th>\n",
       "      <td>14316.4</td>\n",
       "      <td>279.0</td>\n",
       "      <td>2307.9256</td>\n",
       "      <td>47.7320</td>\n",
       "    </tr>\n",
       "    <tr>\n",
       "      <th>0.8</th>\n",
       "      <td>40245.4</td>\n",
       "      <td>885.2</td>\n",
       "      <td>3492.3088</td>\n",
       "      <td>76.2842</td>\n",
       "    </tr>\n",
       "    <tr>\n",
       "      <th>0.9</th>\n",
       "      <td>98632.8</td>\n",
       "      <td>4719.0</td>\n",
       "      <td>5407.6504</td>\n",
       "      <td>201.4248</td>\n",
       "    </tr>\n",
       "    <tr>\n",
       "      <th>1.0</th>\n",
       "      <td>3247684.0</td>\n",
       "      <td>134814.0</td>\n",
       "      <td>35795.1590</td>\n",
       "      <td>1237.5510</td>\n",
       "    </tr>\n",
       "  </tbody>\n",
       "</table>\n",
       "</div>"
      ]
     },
     "execution_count": 4,
     "metadata": {},
     "output_type": "execute_result"
    }
   ],
   "execution_count": 4
  },
  {
   "metadata": {},
   "cell_type": "markdown",
   "source": [
    "Also show skewness and kurtosis. \n",
    "\n",
    "`Skewness` and `kurtosis` describe how symmetrical the distribution is and how fat the tails of the distribution are, respectively. \n",
    "\n",
    "Both measures are significantly higher than we would expect if our variables were distributed normally:"
   ],
   "id": "a1c524a5d0a5035e"
  },
  {
   "metadata": {
    "ExecuteTime": {
     "end_time": "2024-04-23T20:31:53.814065Z",
     "start_time": "2024-04-23T20:31:53.803965Z"
    }
   },
   "cell_type": "code",
   "source": "covid_totals_only.skew()",
   "id": "85b28f821390d353",
   "outputs": [
    {
     "data": {
      "text/plain": [
       "total_cases        9.327371\n",
       "total_deaths       8.126376\n",
       "total_cases_pm     4.284485\n",
       "total_deaths_pm    3.910966\n",
       "dtype: float64"
      ]
     },
     "execution_count": 5,
     "metadata": {},
     "output_type": "execute_result"
    }
   ],
   "execution_count": 5
  },
  {
   "metadata": {},
   "cell_type": "markdown",
   "source": [
    "### 4. Test the COVID data for normality.\n",
    "\n",
    "Use the `Shapiro-Wilk` test from the `scipy` library. \n",
    "\n",
    "Print out the p-value from the test. (The `null` hypothesis of a normal distribution can be rejected at the 95% level at any p-value below 0.05): "
   ],
   "id": "e4ef65858a792a82"
  },
  {
   "metadata": {
    "ExecuteTime": {
     "end_time": "2024-04-23T20:31:53.830852Z",
     "start_time": "2024-04-23T20:31:53.815224Z"
    }
   },
   "cell_type": "code",
   "source": [
    "def test_norm(var, df):\n",
    "    stat, p = scistat.shapiro(df[var])\n",
    "    return p\n",
    "\n",
    "print(\"total cases: %.5f\" % test_norm(\"total_cases\", covid_totals_only))\n",
    "print(\"total deaths: %.5f\" % test_norm(\"total_deaths\", covid_totals_only))\n",
    "print(\"total cases pm: %.5f\" % test_norm(\"total_cases_pm\", covid_totals_only))\n",
    "print(\"total deaths pm: %.5f\" % test_norm(\"total_deaths_pm\", covid_totals_only))"
   ],
   "id": "f669084b3e9370a2",
   "outputs": [
    {
     "name": "stdout",
     "output_type": "stream",
     "text": [
      "total cases: 0.00000\n",
      "total deaths: 0.00000\n",
      "total cases pm: 0.00000\n",
      "total deaths pm: 0.00000\n"
     ]
    }
   ],
   "execution_count": 6
  },
  {
   "metadata": {},
   "cell_type": "markdown",
   "source": [
    "### 5. Show normal quantile-quantile plots (`qqplots`) of total cases and total cases per million.\n",
    "\n",
    "The straight lines show what the distributions would look like if they were normal:"
   ],
   "id": "fcdd041a813e57ec"
  },
  {
   "metadata": {
    "ExecuteTime": {
     "end_time": "2024-04-23T20:31:54.041912Z",
     "start_time": "2024-04-23T20:31:53.831993Z"
    }
   },
   "cell_type": "code",
   "source": [
    "sm.qqplot(covid_totals_only[['total_cases']].sort_values(['total_cases']), line='s')\n",
    "plt.title('QQ Plot of Total Cases')\n",
    "\n",
    "sm.qqplot(covid_totals[['total_cases_pm']].sort_values(['total_cases_pm']), line='s')\n",
    "plt.title('QQ Plot of Total Cases Per Million')\n",
    "\n",
    "plt.show()"
   ],
   "id": "ec861f0571eb9aee",
   "outputs": [
    {
     "data": {
      "text/plain": [
       "<Figure size 640x480 with 1 Axes>"
      ],
      "image/png": "[encoded data removed]"
     },
     "metadata": {},
     "output_type": "display_data"
    },
    {
     "data": {
      "text/plain": [
       "<Figure size 640x480 with 1 Axes>"
      ],
      "image/png": "[encoded data removed]"
     },
     "metadata": {},
     "output_type": "display_data"
    }
   ],
   "execution_count": 7
  },
  {
   "metadata": {},
   "cell_type": "markdown",
   "source": [
    "### 6. Show the outlier range for total cases.\n",
    "\n",
    "One way to define an outlier for a continuous variable is by distance above the third quartile or below the first quartile.\n",
    "\n",
    "If that distance is more than 1.5 times the interquartile range (the distance between the 1st and the 3rd quartile), that value is considered an outlier.\n",
    "\n",
    "In this case, since only 0 or positive values are possible, any total cases value above 25,028 is considered an outlier:"
   ],
   "id": "7f5a25c8b82d5160"
  },
  {
   "metadata": {
    "ExecuteTime": {
     "end_time": "2024-04-23T20:31:54.049645Z",
     "start_time": "2024-04-23T20:31:54.043213Z"
    }
   },
   "cell_type": "code",
   "source": [
    "third_q, first_q = covid_totals_only.total_cases.quantile(0.75), covid_totals_only.total_cases.quantile(0.25)\n",
    "\n",
    "interquartile_range = 1.5 * (third_q - first_q)\n",
    "\n",
    "outlier_high, outlier_low = interquartile_range + third_q, first_q - interquartile_range\n",
    "\n",
    "print(outlier_low, outlier_high, sep=' <---> ')"
   ],
   "id": "823162a55abc2c4",
   "outputs": [
    {
     "name": "stdout",
     "output_type": "stream",
     "text": [
      "-37561.5 <---> 63514.5\n"
     ]
    }
   ],
   "execution_count": 8
  },
  {
   "metadata": {},
   "cell_type": "markdown",
   "source": [
    "### 7. Generate a DataFrame of outliers and write it to Excel.\n",
    "\n",
    "Iterate over the 4 COVID cases columns. \n",
    "\n",
    "Calculate the outliers threshold for each column as we did in the previous step. \n",
    "\n",
    "Select from the DataFrame those rows above the high threshold or below the low threshold.\n",
    "\n",
    "Add columns that indicate the variable examined (`varname`) for outliers and the threshold levels: "
   ],
   "id": "96010ebb278fdff"
  },
  {
   "metadata": {
    "ExecuteTime": {
     "end_time": "2024-04-23T20:56:31.787106Z",
     "start_time": "2024-04-23T20:56:31.782409Z"
    }
   },
   "cell_type": "code",
   "source": [
    "def get_outliers():\n",
    "    df_out = pd.DataFrame(columns=covid_totals.columns, data=None)\n",
    "    \n",
    "    for col in covid_totals_only.columns:\n",
    "        third_q, first_q = covid_totals_only[col].quantile(0.75), covid_totals_only[col].quantile(0.25)\n",
    "        interquartile_range = 1.5 * (third_q - first_q)\n",
    "        outlier_high, outlier_low = interquartile_range + third_q, first_q - interquartile_range\n",
    "        \n",
    "        df = covid_totals.loc[(covid_totals[col] > outlier_high) | (covid_totals[col] < outlier_low)]\n",
    "        df = df.assign(var_name=col, thresh_low=outlier_low, thresh_high=outlier_high)\n",
    "        \n",
    "        df_out = pd.concat([\n",
    "            df_out if not df_out.empty else None, \n",
    "            df\n",
    "        ])\n",
    "        \n",
    "    # print(df_out.columns)    \n",
    "    return df_out"
   ],
   "id": "2572361346a2cd5",
   "outputs": [],
   "execution_count": 28
  },
  {
   "metadata": {
    "ExecuteTime": {
     "end_time": "2024-04-23T20:56:32.995589Z",
     "start_time": "2024-04-23T20:56:32.980702Z"
    }
   },
   "cell_type": "code",
   "source": [
    "outliers = get_outliers()\n",
    "outliers.var_name.value_counts()"
   ],
   "id": "972047e22974eeae",
   "outputs": [
    {
     "data": {
      "text/plain": [
       "var_name\n",
       "total_deaths       41\n",
       "total_deaths_pm    32\n",
       "total_cases        29\n",
       "total_cases_pm     17\n",
       "Name: count, dtype: int64"
      ]
     },
     "execution_count": 29,
     "metadata": {},
     "output_type": "execute_result"
    }
   ],
   "execution_count": 29
  },
  {
   "metadata": {
    "ExecuteTime": {
     "end_time": "2024-04-23T21:06:43.287489Z",
     "start_time": "2024-04-23T21:06:43.277788Z"
    }
   },
   "cell_type": "code",
   "source": "outliers.head()",
   "id": "ec656a1b09b112a7",
   "outputs": [
    {
     "data": {
      "text/plain": [
       "            lastdate    location  total_cases  total_deaths  total_cases_pm  \\\n",
       "iso_code                                                                      \n",
       "ARG       2020-07-12   Argentina      97509.0        1810.0        2157.480   \n",
       "BGD       2020-07-12  Bangladesh     181129.0        2305.0        1099.822   \n",
       "BLR       2020-07-12     Belarus      64767.0         459.0        6854.143   \n",
       "BRA       2020-07-12      Brazil    1839850.0       71469.0        8655.698   \n",
       "CAN       2020-07-12      Canada     107335.0        8773.0        2843.902   \n",
       "\n",
       "          total_deaths_pm   population  pop_density  median_age  \\\n",
       "iso_code                                                          \n",
       "ARG                40.048   45195777.0       16.177        31.9   \n",
       "BGD                13.996  164689383.0     1265.036        27.5   \n",
       "BLR                48.575    9449321.0       46.858        40.3   \n",
       "BRA               336.231  212559409.0       25.040        33.5   \n",
       "CAN               232.446   37742157.0        4.037        41.4   \n",
       "\n",
       "          gdp_per_capita  hosp_beds          region     var_name  thresh_low  \\\n",
       "iso_code                                                                       \n",
       "ARG            18933.907        5.0   South America  total_cases    -37561.5   \n",
       "BGD             3523.984        0.8      South Asia  total_cases    -37561.5   \n",
       "BLR            17167.967       11.0  Eastern Europe  total_cases    -37561.5   \n",
       "BRA            14103.452        2.2   South America  total_cases    -37561.5   \n",
       "CAN            44017.591        2.5   North America  total_cases    -37561.5   \n",
       "\n",
       "          thresh_high  \n",
       "iso_code               \n",
       "ARG           63514.5  \n",
       "BGD           63514.5  \n",
       "BLR           63514.5  \n",
       "BRA           63514.5  \n",
       "CAN           63514.5  "
      ],
      "text/html": [
       "<div>\n",
       "<style scoped>\n",
       "    .dataframe tbody tr th:only-of-type {\n",
       "        vertical-align: middle;\n",
       "    }\n",
       "\n",
       "    .dataframe tbody tr th {\n",
       "        vertical-align: top;\n",
       "    }\n",
       "\n",
       "    .dataframe thead th {\n",
       "        text-align: right;\n",
       "    }\n",
       "</style>\n",
       "<table border=\"1\" class=\"dataframe\">\n",
       "  <thead>\n",
       "    <tr style=\"text-align: right;\">\n",
       "      <th></th>\n",
       "      <th>lastdate</th>\n",
       "      <th>location</th>\n",
       "      <th>total_cases</th>\n",
       "      <th>total_deaths</th>\n",
       "      <th>total_cases_pm</th>\n",
       "      <th>total_deaths_pm</th>\n",
       "      <th>population</th>\n",
       "      <th>pop_density</th>\n",
       "      <th>median_age</th>\n",
       "      <th>gdp_per_capita</th>\n",
       "      <th>hosp_beds</th>\n",
       "      <th>region</th>\n",
       "      <th>var_name</th>\n",
       "      <th>thresh_low</th>\n",
       "      <th>thresh_high</th>\n",
       "    </tr>\n",
       "    <tr>\n",
       "      <th>iso_code</th>\n",
       "      <th></th>\n",
       "      <th></th>\n",
       "      <th></th>\n",
       "      <th></th>\n",
       "      <th></th>\n",
       "      <th></th>\n",
       "      <th></th>\n",
       "      <th></th>\n",
       "      <th></th>\n",
       "      <th></th>\n",
       "      <th></th>\n",
       "      <th></th>\n",
       "      <th></th>\n",
       "      <th></th>\n",
       "      <th></th>\n",
       "    </tr>\n",
       "  </thead>\n",
       "  <tbody>\n",
       "    <tr>\n",
       "      <th>ARG</th>\n",
       "      <td>2020-07-12</td>\n",
       "      <td>Argentina</td>\n",
       "      <td>97509.0</td>\n",
       "      <td>1810.0</td>\n",
       "      <td>2157.480</td>\n",
       "      <td>40.048</td>\n",
       "      <td>45195777.0</td>\n",
       "      <td>16.177</td>\n",
       "      <td>31.9</td>\n",
       "      <td>18933.907</td>\n",
       "      <td>5.0</td>\n",
       "      <td>South America</td>\n",
       "      <td>total_cases</td>\n",
       "      <td>-37561.5</td>\n",
       "      <td>63514.5</td>\n",
       "    </tr>\n",
       "    <tr>\n",
       "      <th>BGD</th>\n",
       "      <td>2020-07-12</td>\n",
       "      <td>Bangladesh</td>\n",
       "      <td>181129.0</td>\n",
       "      <td>2305.0</td>\n",
       "      <td>1099.822</td>\n",
       "      <td>13.996</td>\n",
       "      <td>164689383.0</td>\n",
       "      <td>1265.036</td>\n",
       "      <td>27.5</td>\n",
       "      <td>3523.984</td>\n",
       "      <td>0.8</td>\n",
       "      <td>South Asia</td>\n",
       "      <td>total_cases</td>\n",
       "      <td>-37561.5</td>\n",
       "      <td>63514.5</td>\n",
       "    </tr>\n",
       "    <tr>\n",
       "      <th>BLR</th>\n",
       "      <td>2020-07-12</td>\n",
       "      <td>Belarus</td>\n",
       "      <td>64767.0</td>\n",
       "      <td>459.0</td>\n",
       "      <td>6854.143</td>\n",
       "      <td>48.575</td>\n",
       "      <td>9449321.0</td>\n",
       "      <td>46.858</td>\n",
       "      <td>40.3</td>\n",
       "      <td>17167.967</td>\n",
       "      <td>11.0</td>\n",
       "      <td>Eastern Europe</td>\n",
       "      <td>total_cases</td>\n",
       "      <td>-37561.5</td>\n",
       "      <td>63514.5</td>\n",
       "    </tr>\n",
       "    <tr>\n",
       "      <th>BRA</th>\n",
       "      <td>2020-07-12</td>\n",
       "      <td>Brazil</td>\n",
       "      <td>1839850.0</td>\n",
       "      <td>71469.0</td>\n",
       "      <td>8655.698</td>\n",
       "      <td>336.231</td>\n",
       "      <td>212559409.0</td>\n",
       "      <td>25.040</td>\n",
       "      <td>33.5</td>\n",
       "      <td>14103.452</td>\n",
       "      <td>2.2</td>\n",
       "      <td>South America</td>\n",
       "      <td>total_cases</td>\n",
       "      <td>-37561.5</td>\n",
       "      <td>63514.5</td>\n",
       "    </tr>\n",
       "    <tr>\n",
       "      <th>CAN</th>\n",
       "      <td>2020-07-12</td>\n",
       "      <td>Canada</td>\n",
       "      <td>107335.0</td>\n",
       "      <td>8773.0</td>\n",
       "      <td>2843.902</td>\n",
       "      <td>232.446</td>\n",
       "      <td>37742157.0</td>\n",
       "      <td>4.037</td>\n",
       "      <td>41.4</td>\n",
       "      <td>44017.591</td>\n",
       "      <td>2.5</td>\n",
       "      <td>North America</td>\n",
       "      <td>total_cases</td>\n",
       "      <td>-37561.5</td>\n",
       "      <td>63514.5</td>\n",
       "    </tr>\n",
       "  </tbody>\n",
       "</table>\n",
       "</div>"
      ]
     },
     "execution_count": 34,
     "metadata": {},
     "output_type": "execute_result"
    }
   ],
   "execution_count": 34
  },
  {
   "metadata": {
    "ExecuteTime": {
     "end_time": "2024-04-23T20:59:46.090132Z",
     "start_time": "2024-04-23T20:59:46.010811Z"
    }
   },
   "cell_type": "code",
   "source": "outliers.to_excel('views/outliers_cases.xlsx')",
   "id": "5d1adb38545aec87",
   "outputs": [],
   "execution_count": 33
  },
  {
   "metadata": {},
   "cell_type": "markdown",
   "source": [
    "### 8. Look a little more closely at outliers for cases per million.\n",
    "\n",
    "Use the `var_name` column we created to select the outliers for `total_cases_pm`.\n",
    "\n",
    "Also show columns (`pop_density` and `gdp_per_capita`) that might help to explain the extreme values and the interquartile range for those columns:"
   ],
   "id": "49e0f2e21f3d5649"
  },
  {
   "metadata": {
    "ExecuteTime": {
     "end_time": "2024-04-23T21:10:14.665119Z",
     "start_time": "2024-04-23T21:10:14.656557Z"
    }
   },
   "cell_type": "code",
   "source": "outliers.loc[outliers.var_name == 'total_cases_pm', ['location', 'total_cases_pm', 'pop_density', 'gdp_per_capita']].sort_values(['total_cases_pm'], ascending=False)",
   "id": "2ec2e301ab80560a",
   "outputs": [
    {
     "data": {
      "text/plain": [
       "               location  total_cases_pm  pop_density  gdp_per_capita\n",
       "iso_code                                                            \n",
       "QAT               Qatar       35795.159      227.322      116935.600\n",
       "SMR          San Marino       21038.364      556.667       56861.470\n",
       "BHR             Bahrain       19082.231     1935.907       43290.705\n",
       "CHL               Chile       16322.745       24.282       22767.037\n",
       "VAT             Vatican       14833.127          NaN             NaN\n",
       "KWT              Kuwait       12658.284      232.128       65530.537\n",
       "AND             Andorra       11065.812      163.755             NaN\n",
       "OMN                Oman       10710.994       14.980       37960.709\n",
       "ARM             Armenia       10593.831      102.931        8787.580\n",
       "PAN              Panama       10274.481       55.133       22267.037\n",
       "USA       United States        9811.656       35.608       54225.446\n",
       "PER                Peru        9787.441       25.129       12236.706\n",
       "BRA              Brazil        8655.698       25.040       14103.452\n",
       "SGP           Singapore        7825.695     7915.731       85535.383\n",
       "LUX          Luxembourg        7735.121      231.447       94277.965\n",
       "SWE              Sweden        7416.180       24.718       46949.283\n",
       "BLR             Belarus        6854.143       46.858       17167.967"
      ],
      "text/html": [
       "<div>\n",
       "<style scoped>\n",
       "    .dataframe tbody tr th:only-of-type {\n",
       "        vertical-align: middle;\n",
       "    }\n",
       "\n",
       "    .dataframe tbody tr th {\n",
       "        vertical-align: top;\n",
       "    }\n",
       "\n",
       "    .dataframe thead th {\n",
       "        text-align: right;\n",
       "    }\n",
       "</style>\n",
       "<table border=\"1\" class=\"dataframe\">\n",
       "  <thead>\n",
       "    <tr style=\"text-align: right;\">\n",
       "      <th></th>\n",
       "      <th>location</th>\n",
       "      <th>total_cases_pm</th>\n",
       "      <th>pop_density</th>\n",
       "      <th>gdp_per_capita</th>\n",
       "    </tr>\n",
       "    <tr>\n",
       "      <th>iso_code</th>\n",
       "      <th></th>\n",
       "      <th></th>\n",
       "      <th></th>\n",
       "      <th></th>\n",
       "    </tr>\n",
       "  </thead>\n",
       "  <tbody>\n",
       "    <tr>\n",
       "      <th>QAT</th>\n",
       "      <td>Qatar</td>\n",
       "      <td>35795.159</td>\n",
       "      <td>227.322</td>\n",
       "      <td>116935.600</td>\n",
       "    </tr>\n",
       "    <tr>\n",
       "      <th>SMR</th>\n",
       "      <td>San Marino</td>\n",
       "      <td>21038.364</td>\n",
       "      <td>556.667</td>\n",
       "      <td>56861.470</td>\n",
       "    </tr>\n",
       "    <tr>\n",
       "      <th>BHR</th>\n",
       "      <td>Bahrain</td>\n",
       "      <td>19082.231</td>\n",
       "      <td>1935.907</td>\n",
       "      <td>43290.705</td>\n",
       "    </tr>\n",
       "    <tr>\n",
       "      <th>CHL</th>\n",
       "      <td>Chile</td>\n",
       "      <td>16322.745</td>\n",
       "      <td>24.282</td>\n",
       "      <td>22767.037</td>\n",
       "    </tr>\n",
       "    <tr>\n",
       "      <th>VAT</th>\n",
       "      <td>Vatican</td>\n",
       "      <td>14833.127</td>\n",
       "      <td>NaN</td>\n",
       "      <td>NaN</td>\n",
       "    </tr>\n",
       "    <tr>\n",
       "      <th>KWT</th>\n",
       "      <td>Kuwait</td>\n",
       "      <td>12658.284</td>\n",
       "      <td>232.128</td>\n",
       "      <td>65530.537</td>\n",
       "    </tr>\n",
       "    <tr>\n",
       "      <th>AND</th>\n",
       "      <td>Andorra</td>\n",
       "      <td>11065.812</td>\n",
       "      <td>163.755</td>\n",
       "      <td>NaN</td>\n",
       "    </tr>\n",
       "    <tr>\n",
       "      <th>OMN</th>\n",
       "      <td>Oman</td>\n",
       "      <td>10710.994</td>\n",
       "      <td>14.980</td>\n",
       "      <td>37960.709</td>\n",
       "    </tr>\n",
       "    <tr>\n",
       "      <th>ARM</th>\n",
       "      <td>Armenia</td>\n",
       "      <td>10593.831</td>\n",
       "      <td>102.931</td>\n",
       "      <td>8787.580</td>\n",
       "    </tr>\n",
       "    <tr>\n",
       "      <th>PAN</th>\n",
       "      <td>Panama</td>\n",
       "      <td>10274.481</td>\n",
       "      <td>55.133</td>\n",
       "      <td>22267.037</td>\n",
       "    </tr>\n",
       "    <tr>\n",
       "      <th>USA</th>\n",
       "      <td>United States</td>\n",
       "      <td>9811.656</td>\n",
       "      <td>35.608</td>\n",
       "      <td>54225.446</td>\n",
       "    </tr>\n",
       "    <tr>\n",
       "      <th>PER</th>\n",
       "      <td>Peru</td>\n",
       "      <td>9787.441</td>\n",
       "      <td>25.129</td>\n",
       "      <td>12236.706</td>\n",
       "    </tr>\n",
       "    <tr>\n",
       "      <th>BRA</th>\n",
       "      <td>Brazil</td>\n",
       "      <td>8655.698</td>\n",
       "      <td>25.040</td>\n",
       "      <td>14103.452</td>\n",
       "    </tr>\n",
       "    <tr>\n",
       "      <th>SGP</th>\n",
       "      <td>Singapore</td>\n",
       "      <td>7825.695</td>\n",
       "      <td>7915.731</td>\n",
       "      <td>85535.383</td>\n",
       "    </tr>\n",
       "    <tr>\n",
       "      <th>LUX</th>\n",
       "      <td>Luxembourg</td>\n",
       "      <td>7735.121</td>\n",
       "      <td>231.447</td>\n",
       "      <td>94277.965</td>\n",
       "    </tr>\n",
       "    <tr>\n",
       "      <th>SWE</th>\n",
       "      <td>Sweden</td>\n",
       "      <td>7416.180</td>\n",
       "      <td>24.718</td>\n",
       "      <td>46949.283</td>\n",
       "    </tr>\n",
       "    <tr>\n",
       "      <th>BLR</th>\n",
       "      <td>Belarus</td>\n",
       "      <td>6854.143</td>\n",
       "      <td>46.858</td>\n",
       "      <td>17167.967</td>\n",
       "    </tr>\n",
       "  </tbody>\n",
       "</table>\n",
       "</div>"
      ]
     },
     "execution_count": 35,
     "metadata": {},
     "output_type": "execute_result"
    }
   ],
   "execution_count": 35
  },
  {
   "metadata": {
    "ExecuteTime": {
     "end_time": "2024-04-23T21:25:55.749033Z",
     "start_time": "2024-04-23T21:25:55.741438Z"
    }
   },
   "cell_type": "code",
   "source": "covid_totals[['pop_density', 'gdp_per_capita', 'total_cases_pm']].quantile([0.25, 0.5, 0.75])",
   "id": "6c0170a90fd39d22",
   "outputs": [
    {
     "data": {
      "text/plain": [
       "      pop_density  gdp_per_capita  total_cases_pm\n",
       "0.25      37.4160      4485.32900         202.834\n",
       "0.50      87.2500     13031.52650         868.866\n",
       "0.75     213.5355     27882.13375        2784.865"
      ],
      "text/html": [
       "<div>\n",
       "<style scoped>\n",
       "    .dataframe tbody tr th:only-of-type {\n",
       "        vertical-align: middle;\n",
       "    }\n",
       "\n",
       "    .dataframe tbody tr th {\n",
       "        vertical-align: top;\n",
       "    }\n",
       "\n",
       "    .dataframe thead th {\n",
       "        text-align: right;\n",
       "    }\n",
       "</style>\n",
       "<table border=\"1\" class=\"dataframe\">\n",
       "  <thead>\n",
       "    <tr style=\"text-align: right;\">\n",
       "      <th></th>\n",
       "      <th>pop_density</th>\n",
       "      <th>gdp_per_capita</th>\n",
       "      <th>total_cases_pm</th>\n",
       "    </tr>\n",
       "  </thead>\n",
       "  <tbody>\n",
       "    <tr>\n",
       "      <th>0.25</th>\n",
       "      <td>37.4160</td>\n",
       "      <td>4485.32900</td>\n",
       "      <td>202.834</td>\n",
       "    </tr>\n",
       "    <tr>\n",
       "      <th>0.50</th>\n",
       "      <td>87.2500</td>\n",
       "      <td>13031.52650</td>\n",
       "      <td>868.866</td>\n",
       "    </tr>\n",
       "    <tr>\n",
       "      <th>0.75</th>\n",
       "      <td>213.5355</td>\n",
       "      <td>27882.13375</td>\n",
       "      <td>2784.865</td>\n",
       "    </tr>\n",
       "  </tbody>\n",
       "</table>\n",
       "</div>"
      ]
     },
     "execution_count": 37,
     "metadata": {},
     "output_type": "execute_result"
    }
   ],
   "execution_count": 37
  },
  {
   "metadata": {},
   "cell_type": "markdown",
   "source": "### 9. Show a histogram of total cases:",
   "id": "d8f979b6202191e0"
  },
  {
   "metadata": {
    "ExecuteTime": {
     "end_time": "2024-04-23T21:32:30.697690Z",
     "start_time": "2024-04-23T21:32:30.614422Z"
    }
   },
   "cell_type": "code",
   "source": [
    "plt.hist(covid_totals_only['total_cases'] / 1000, bins=7)\n",
    "plt.title('Total COVID Cases (thousands)')\n",
    "plt.xlabel('Cases')\n",
    "plt.ylabel('Number of Countries')\n",
    "plt.show()"
   ],
   "id": "ec3ffb3dc7e963ea",
   "outputs": [
    {
     "data": {
      "text/plain": [
       "<Figure size 640x480 with 1 Axes>"
      ],
      "image/png": "[encoded data removed]"
     },
     "metadata": {},
     "output_type": "display_data"
    }
   ],
   "execution_count": 38
  }
 ],
 "metadata": {
  "kernelspec": {
   "display_name": "Python 3",
   "language": "python",
   "name": "python3"
  },
  "language_info": {
   "codemirror_mode": {
    "name": "ipython",
    "version": 2
   },
   "file_extension": ".py",
   "mimetype": "text/x-python",
   "name": "python",
   "nbconvert_exporter": "python",
   "pygments_lexer": "ipython2",
   "version": "2.7.6"
  }
 },
 "nbformat": 4,
 "nbformat_minor": 5
}
