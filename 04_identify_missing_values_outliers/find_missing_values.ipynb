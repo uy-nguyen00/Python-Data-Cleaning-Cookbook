{
 "cells": [
  {
   "metadata": {},
   "cell_type": "markdown",
   "source": "### 1. Import and load",
   "id": "ec657019c342b617"
  },
  {
   "cell_type": "code",
   "id": "initial_id",
   "metadata": {
    "collapsed": true,
    "ExecuteTime": {
     "end_time": "2024-04-19T15:53:52.131541Z",
     "start_time": "2024-04-19T15:53:52.125685Z"
    }
   },
   "source": [
    "import pandas as pd\n",
    "\n",
    "covid_totals = pd.read_csv('data/covidtotalswithmissings.csv')\n",
    "\n",
    "covid_totals.set_index('iso_code', inplace=True)\n",
    "\n",
    "tot_vars = ['location', 'total_cases', 'total_deaths', 'total_cases_pm', 'total_deaths_pm']\n",
    "\n",
    "demo_vars = ['population', 'pop_density', 'median_age', 'gdp_per_capita', 'hosp_beds']"
   ],
   "outputs": [],
   "execution_count": 21
  },
  {
   "metadata": {},
   "cell_type": "markdown",
   "source": [
    "### 2. Check the demographic columns for missing data.\n",
    "\n",
    "Set the axis to `0` (the default) to check for the count of countries that are missing values for each of the demographic variables (missing values down columns) Notice that 46 out of 210 countries, more than 20 percent of countries, are missing `hosp_beds`.\n",
    "\n",
    "Set the axis to `1` to check for the number of demographic variables that are missing for each country (missing values accross rows). \n",
    "\n",
    "Next, get `value_counts` on the resulting `demo_vars_miss_cnt` series to see whether some countries have missing values for much of the demographic data. \n",
    "\n",
    "Notice that 10 countries are missing values for 3 out of the 5 demographic variables, while 8 countries are missing values for 4 out of 5 demographic variables:"
   ],
   "id": "1e5e6dc051d9b35b"
  },
  {
   "metadata": {
    "ExecuteTime": {
     "end_time": "2024-04-19T15:53:52.167320Z",
     "start_time": "2024-04-19T15:53:52.162330Z"
    }
   },
   "cell_type": "code",
   "source": "covid_totals[demo_vars].isnull().sum(axis=0)",
   "id": "9b56e5e341b53e81",
   "outputs": [
    {
     "data": {
      "text/plain": [
       "population         0\n",
       "pop_density       12\n",
       "median_age        24\n",
       "gdp_per_capita    28\n",
       "hosp_beds         46\n",
       "dtype: int64"
      ]
     },
     "execution_count": 22,
     "metadata": {},
     "output_type": "execute_result"
    }
   ],
   "execution_count": 22
  },
  {
   "metadata": {
    "ExecuteTime": {
     "end_time": "2024-04-19T15:53:52.196709Z",
     "start_time": "2024-04-19T15:53:52.190474Z"
    }
   },
   "cell_type": "code",
   "source": [
    "demo_vars_miss_cnt = covid_totals[demo_vars].isnull().sum(axis=1)\n",
    "demo_vars_miss_cnt.value_counts()  #First column is the number of missed variables"
   ],
   "id": "e27061cbc16c7d6f",
   "outputs": [
    {
     "data": {
      "text/plain": [
       "0    156\n",
       "1     24\n",
       "2     12\n",
       "3     10\n",
       "4      8\n",
       "Name: count, dtype: int64"
      ]
     },
     "execution_count": 23,
     "metadata": {},
     "output_type": "execute_result"
    }
   ],
   "execution_count": 23
  },
  {
   "metadata": {
    "ExecuteTime": {
     "end_time": "2024-04-19T15:53:52.211094Z",
     "start_time": "2024-04-19T15:53:52.198171Z"
    }
   },
   "cell_type": "code",
   "source": "type(demo_vars_miss_cnt)",
   "id": "67861c3b58fbf77",
   "outputs": [
    {
     "data": {
      "text/plain": [
       "pandas.core.series.Series"
      ]
     },
     "execution_count": 24,
     "metadata": {},
     "output_type": "execute_result"
    }
   ],
   "execution_count": 24
  },
  {
   "metadata": {},
   "cell_type": "markdown",
   "source": [
    "### 3. List the countries with three or more missing values for the demographic data.\n",
    "\n",
    "Index alignment and Boolean indexing allow us to use the count of missing values (`demo_vars_miss_cnt`) to select rows. \n",
    "\n",
    "Append the location to the `demo_vars` list to see the country. (We only show the first five of these countries here)."
   ],
   "id": "75289305c7f96b60"
  },
  {
   "metadata": {
    "ExecuteTime": {
     "end_time": "2024-04-19T15:53:52.228461Z",
     "start_time": "2024-04-19T15:53:52.212722Z"
    }
   },
   "cell_type": "code",
   "source": "covid_totals.loc[demo_vars_miss_cnt >= 3, ['location'] + demo_vars].head(5).T",
   "id": "a4da175856f3581a",
   "outputs": [
    {
     "data": {
      "text/plain": [
       "iso_code            AND       AIA                              BES  \\\n",
       "location        Andorra  Anguilla  Bonaire Sint Eustatius and Saba   \n",
       "population      77265.0   15002.0                          26221.0   \n",
       "pop_density     163.755       NaN                              NaN   \n",
       "median_age          NaN       NaN                              NaN   \n",
       "gdp_per_capita      NaN       NaN                              NaN   \n",
       "hosp_beds           NaN       NaN                              NaN   \n",
       "\n",
       "iso_code                           VGB             FRO  \n",
       "location        British Virgin Islands  Faeroe Islands  \n",
       "population                     30237.0         48865.0  \n",
       "pop_density                    207.973          35.308  \n",
       "median_age                         NaN             NaN  \n",
       "gdp_per_capita                     NaN             NaN  \n",
       "hosp_beds                          NaN             NaN  "
      ],
      "text/html": [
       "<div>\n",
       "<style scoped>\n",
       "    .dataframe tbody tr th:only-of-type {\n",
       "        vertical-align: middle;\n",
       "    }\n",
       "\n",
       "    .dataframe tbody tr th {\n",
       "        vertical-align: top;\n",
       "    }\n",
       "\n",
       "    .dataframe thead th {\n",
       "        text-align: right;\n",
       "    }\n",
       "</style>\n",
       "<table border=\"1\" class=\"dataframe\">\n",
       "  <thead>\n",
       "    <tr style=\"text-align: right;\">\n",
       "      <th>iso_code</th>\n",
       "      <th>AND</th>\n",
       "      <th>AIA</th>\n",
       "      <th>BES</th>\n",
       "      <th>VGB</th>\n",
       "      <th>FRO</th>\n",
       "    </tr>\n",
       "  </thead>\n",
       "  <tbody>\n",
       "    <tr>\n",
       "      <th>location</th>\n",
       "      <td>Andorra</td>\n",
       "      <td>Anguilla</td>\n",
       "      <td>Bonaire Sint Eustatius and Saba</td>\n",
       "      <td>British Virgin Islands</td>\n",
       "      <td>Faeroe Islands</td>\n",
       "    </tr>\n",
       "    <tr>\n",
       "      <th>population</th>\n",
       "      <td>77265.0</td>\n",
       "      <td>15002.0</td>\n",
       "      <td>26221.0</td>\n",
       "      <td>30237.0</td>\n",
       "      <td>48865.0</td>\n",
       "    </tr>\n",
       "    <tr>\n",
       "      <th>pop_density</th>\n",
       "      <td>163.755</td>\n",
       "      <td>NaN</td>\n",
       "      <td>NaN</td>\n",
       "      <td>207.973</td>\n",
       "      <td>35.308</td>\n",
       "    </tr>\n",
       "    <tr>\n",
       "      <th>median_age</th>\n",
       "      <td>NaN</td>\n",
       "      <td>NaN</td>\n",
       "      <td>NaN</td>\n",
       "      <td>NaN</td>\n",
       "      <td>NaN</td>\n",
       "    </tr>\n",
       "    <tr>\n",
       "      <th>gdp_per_capita</th>\n",
       "      <td>NaN</td>\n",
       "      <td>NaN</td>\n",
       "      <td>NaN</td>\n",
       "      <td>NaN</td>\n",
       "      <td>NaN</td>\n",
       "    </tr>\n",
       "    <tr>\n",
       "      <th>hosp_beds</th>\n",
       "      <td>NaN</td>\n",
       "      <td>NaN</td>\n",
       "      <td>NaN</td>\n",
       "      <td>NaN</td>\n",
       "      <td>NaN</td>\n",
       "    </tr>\n",
       "  </tbody>\n",
       "</table>\n",
       "</div>"
      ]
     },
     "execution_count": 25,
     "metadata": {},
     "output_type": "execute_result"
    }
   ],
   "execution_count": 25
  },
  {
   "metadata": {},
   "cell_type": "markdown",
   "source": [
    "### 4. Check the COVID case data for missing values.\n",
    "\n",
    "Notice that only one country has missing values for any of this data:"
   ],
   "id": "12a7ca3cf74f5c21"
  },
  {
   "metadata": {
    "ExecuteTime": {
     "end_time": "2024-04-19T15:53:52.242742Z",
     "start_time": "2024-04-19T15:53:52.230262Z"
    }
   },
   "cell_type": "code",
   "source": "covid_totals[tot_vars].isnull().sum(axis=0)",
   "id": "2ac7e54deca5afa2",
   "outputs": [
    {
     "data": {
      "text/plain": [
       "location           0\n",
       "total_cases        0\n",
       "total_deaths       0\n",
       "total_cases_pm     1\n",
       "total_deaths_pm    1\n",
       "dtype: int64"
      ]
     },
     "execution_count": 26,
     "metadata": {},
     "output_type": "execute_result"
    }
   ],
   "execution_count": 26
  },
  {
   "metadata": {
    "ExecuteTime": {
     "end_time": "2024-04-19T15:53:52.257914Z",
     "start_time": "2024-04-19T15:53:52.243877Z"
    }
   },
   "cell_type": "code",
   "source": [
    "tot_vars_miss_cnt = covid_totals[tot_vars].isnull().sum(axis=1)\n",
    "tot_vars_miss_cnt.value_counts()"
   ],
   "id": "8f3056d7ee8027ae",
   "outputs": [
    {
     "data": {
      "text/plain": [
       "0    209\n",
       "2      1\n",
       "Name: count, dtype: int64"
      ]
     },
     "execution_count": 27,
     "metadata": {},
     "output_type": "execute_result"
    }
   ],
   "execution_count": 27
  },
  {
   "metadata": {
    "ExecuteTime": {
     "end_time": "2024-04-19T15:53:52.272122Z",
     "start_time": "2024-04-19T15:53:52.259138Z"
    }
   },
   "cell_type": "code",
   "source": "covid_totals.loc[tot_vars_miss_cnt > 0].T",
   "id": "e5a7239f9087fb31",
   "outputs": [
    {
     "data": {
      "text/plain": [
       "iso_code                HKG\n",
       "lastdate         2020-05-26\n",
       "location          Hong Kong\n",
       "total_cases               0\n",
       "total_deaths              0\n",
       "total_cases_pm          NaN\n",
       "total_deaths_pm         NaN\n",
       "population        7496988.0\n",
       "pop_density        7039.714\n",
       "median_age             44.8\n",
       "gdp_per_capita     56054.92\n",
       "hosp_beds               NaN"
      ],
      "text/html": [
       "<div>\n",
       "<style scoped>\n",
       "    .dataframe tbody tr th:only-of-type {\n",
       "        vertical-align: middle;\n",
       "    }\n",
       "\n",
       "    .dataframe tbody tr th {\n",
       "        vertical-align: top;\n",
       "    }\n",
       "\n",
       "    .dataframe thead th {\n",
       "        text-align: right;\n",
       "    }\n",
       "</style>\n",
       "<table border=\"1\" class=\"dataframe\">\n",
       "  <thead>\n",
       "    <tr style=\"text-align: right;\">\n",
       "      <th>iso_code</th>\n",
       "      <th>HKG</th>\n",
       "    </tr>\n",
       "  </thead>\n",
       "  <tbody>\n",
       "    <tr>\n",
       "      <th>lastdate</th>\n",
       "      <td>2020-05-26</td>\n",
       "    </tr>\n",
       "    <tr>\n",
       "      <th>location</th>\n",
       "      <td>Hong Kong</td>\n",
       "    </tr>\n",
       "    <tr>\n",
       "      <th>total_cases</th>\n",
       "      <td>0</td>\n",
       "    </tr>\n",
       "    <tr>\n",
       "      <th>total_deaths</th>\n",
       "      <td>0</td>\n",
       "    </tr>\n",
       "    <tr>\n",
       "      <th>total_cases_pm</th>\n",
       "      <td>NaN</td>\n",
       "    </tr>\n",
       "    <tr>\n",
       "      <th>total_deaths_pm</th>\n",
       "      <td>NaN</td>\n",
       "    </tr>\n",
       "    <tr>\n",
       "      <th>population</th>\n",
       "      <td>7496988.0</td>\n",
       "    </tr>\n",
       "    <tr>\n",
       "      <th>pop_density</th>\n",
       "      <td>7039.714</td>\n",
       "    </tr>\n",
       "    <tr>\n",
       "      <th>median_age</th>\n",
       "      <td>44.8</td>\n",
       "    </tr>\n",
       "    <tr>\n",
       "      <th>gdp_per_capita</th>\n",
       "      <td>56054.92</td>\n",
       "    </tr>\n",
       "    <tr>\n",
       "      <th>hosp_beds</th>\n",
       "      <td>NaN</td>\n",
       "    </tr>\n",
       "  </tbody>\n",
       "</table>\n",
       "</div>"
      ]
     },
     "execution_count": 28,
     "metadata": {},
     "output_type": "execute_result"
    }
   ],
   "execution_count": 28
  },
  {
   "metadata": {},
   "cell_type": "markdown",
   "source": [
    "### 5. Use the `fillna` method to fix the missing cases for the one country affected (Hong Kong).\n",
    "\n",
    "We could just set the values to `0`, since the numerator is `0` in both cases. However, it is helpful in terms of code reuse to use the correct logic:"
   ],
   "id": "4800badcc89663f2"
  },
  {
   "metadata": {
    "ExecuteTime": {
     "end_time": "2024-04-19T15:55:41.297361Z",
     "start_time": "2024-04-19T15:55:41.289317Z"
    }
   },
   "cell_type": "code",
   "source": [
    "covid_totals['total_cases_pm'] = covid_totals['total_cases_pm'].fillna(\n",
    "    covid_totals['total_cases'] / (covid_totals['population'] / 1000000))\n",
    "\n",
    "covid_totals['total_deaths_pm'] = covid_totals['total_deaths_pm'].fillna(\n",
    "    covid_totals['total_deaths'] / (covid_totals['population'] / 1000000))\n",
    "\n",
    "covid_totals[tot_vars].isnull().sum(axis=0)"
   ],
   "id": "9839db0a90a28a66",
   "outputs": [
    {
     "data": {
      "text/plain": [
       "location           0\n",
       "total_cases        0\n",
       "total_deaths       0\n",
       "total_cases_pm     0\n",
       "total_deaths_pm    0\n",
       "dtype: int64"
      ]
     },
     "execution_count": 30,
     "metadata": {},
     "output_type": "execute_result"
    }
   ],
   "execution_count": 30
  }
 ],
 "metadata": {
  "kernelspec": {
   "display_name": "Python 3",
   "language": "python",
   "name": "python3"
  },
  "language_info": {
   "codemirror_mode": {
    "name": "ipython",
    "version": 2
   },
   "file_extension": ".py",
   "mimetype": "text/x-python",
   "name": "python",
   "nbconvert_exporter": "python",
   "pygments_lexer": "ipython2",
   "version": "2.7.6"
  }
 },
 "nbformat": 4,
 "nbformat_minor": 5
}
